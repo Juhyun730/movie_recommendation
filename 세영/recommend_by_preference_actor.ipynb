{
  "nbformat": 4,
  "nbformat_minor": 0,
  "metadata": {
    "colab": {
      "name": "recommend_by_preference_actor.ipynb",
      "provenance": []
    },
    "kernelspec": {
      "name": "python3",
      "display_name": "Python 3"
    },
    "language_info": {
      "name": "python"
    }
  },
  "cells": [
    {
      "cell_type": "markdown",
      "metadata": {
        "id": "KmVnwWbK8Hra"
      },
      "source": [
        "## 영화 5개 입력받기"
      ]
    },
    {
      "cell_type": "code",
      "metadata": {
        "colab": {
          "base_uri": "https://localhost:8080/"
        },
        "id": "PetcT8gO73Pl",
        "outputId": "d3e5b102-7635-46ca-a8d8-577a783f1b53"
      },
      "source": [
        "print(\"좋아하는 영화 5개를 입력해주세요(구분은 ,로): \")\n",
        "movie_list = input().split(\",\")\n",
        "print(movie_list)"
      ],
      "execution_count": null,
      "outputs": [
        {
          "output_type": "stream",
          "text": [
            "좋아하는 영화 5개를 입력해주세요(구분은 ,로): \n",
            "패신저스,헝거게임: 판엠의 불꽃,어벤져스,해리포터와 불의 잔,트와일라잇\n",
            "['패신저스', '헝거게임: 판엠의 불꽃', '어벤져스', '해리포터와 불의 잔', '트와일라잇']\n"
          ],
          "name": "stdout"
        }
      ]
    },
    {
      "cell_type": "markdown",
      "metadata": {
        "id": "v51SNg4h-KF_"
      },
      "source": [
        "## 영화별 출연진 정보 가져오기"
      ]
    },
    {
      "cell_type": "markdown",
      "metadata": {
        "id": "lqEXLqBq_-Lo"
      },
      "source": [
        "영화 목록에서 영화코드 추출"
      ]
    },
    {
      "cell_type": "code",
      "metadata": {
        "id": "_lX0V_AKAZCx"
      },
      "source": [
        "import requests\n",
        "import json"
      ],
      "execution_count": null,
      "outputs": []
    },
    {
      "cell_type": "code",
      "metadata": {
        "colab": {
          "base_uri": "https://localhost:8080/"
        },
        "id": "kVyHImeY9rW0",
        "outputId": "3b400d8a-4dc1-422e-9521-9401f2a928e4"
      },
      "source": [
        "movie_cd_list = []\n",
        "director_list = []\n",
        "for movie in movie_list:\n",
        "  movie_cd_url = 'https://www.kobis.or.kr/kobisopenapi/webservice/rest/movie/searchMovieList.json?key=d99e474ec53733a372d8413bd2753506&movieNm='+movie\n",
        "  res = requests.get(movie_cd_url)\n",
        "  text = res.text\n",
        "  d = json.loads(text)\n",
        "  if d['movieListResult']['totCnt'] > 1:    # 동명의 영화가 있을 경우\n",
        "    item_director, item_year = input(movie+\"의 감독과 개봉연도를 입력하세요(구분은 ,로): \").split(\",\")   # 감독과 개봉연도로 구분\n",
        "    for item in d['movieListResult']['movieList']:\n",
        "      for director in item['directors']:\n",
        "        if item_director == director['peopleNm'] and item_year == item['openDt'][:4]:\n",
        "          director_list = director['peopleNm']\n",
        "          movie_cd_list.append([item['movieCd'],\n",
        "                                item['movieNm'],\n",
        "                                director_list,\n",
        "                                item['openDt'][:4]])\n",
        "  if d['movieListResult']['totCnt'] == 1:\n",
        "    for item in d['movieListResult']['movieList']:\n",
        "      for director in item['directors']:\n",
        "        director_list = director['peopleNm']\n",
        "      movie_cd_list.append([item['movieCd'],\n",
        "                            item['movieNm'],\n",
        "                            director_list,\n",
        "                            item['openDt'][:4]])\n",
        "  \n",
        "print(movie_cd_list)"
      ],
      "execution_count": null,
      "outputs": [
        {
          "output_type": "stream",
          "text": [
            "패신저스의 감독과 개봉연도를 입력하세요(구분은 ,로): 모튼 틸덤,2017\n",
            "어벤져스의 감독과 개봉연도를 입력하세요(구분은 ,로): 조스 웨던,2012\n",
            "트와일라잇의 감독과 개봉연도를 입력하세요(구분은 ,로): 캐서린 하드윅,2008\n",
            "[['20161084', '패신저스', '모튼 틸덤', '2017'], ['20124127', '헝거게임: 판엠의 불꽃', '게리 로스', '2012'], ['20124721', '어벤져스', '조스 웨던', '2012'], ['20050310', '해리 포터와 불의 잔', '마이크 뉴웰', '2005'], ['20081697', '트와일라잇', '캐서린 하드윅', '2008']]\n"
          ],
          "name": "stdout"
        }
      ]
    },
    {
      "cell_type": "code",
      "metadata": {
        "colab": {
          "base_uri": "https://localhost:8080/",
          "height": 203
        },
        "id": "GOvFd3dABDd5",
        "outputId": "f1c75832-f9e5-4754-ce3d-11a4ba56c874"
      },
      "source": [
        "import pandas as pd\n",
        "\n",
        "movie_cdlist_df = pd.DataFrame(movie_cd_list)\n",
        "movie_cdlist_df.columns = ['movieCd', 'movieNm','directors', 'openYr']\n",
        "movie_cdlist_df"
      ],
      "execution_count": null,
      "outputs": [
        {
          "output_type": "execute_result",
          "data": {
            "text/html": [
              "<div>\n",
              "<style scoped>\n",
              "    .dataframe tbody tr th:only-of-type {\n",
              "        vertical-align: middle;\n",
              "    }\n",
              "\n",
              "    .dataframe tbody tr th {\n",
              "        vertical-align: top;\n",
              "    }\n",
              "\n",
              "    .dataframe thead th {\n",
              "        text-align: right;\n",
              "    }\n",
              "</style>\n",
              "<table border=\"1\" class=\"dataframe\">\n",
              "  <thead>\n",
              "    <tr style=\"text-align: right;\">\n",
              "      <th></th>\n",
              "      <th>movieCd</th>\n",
              "      <th>movieNm</th>\n",
              "      <th>directors</th>\n",
              "      <th>openYr</th>\n",
              "    </tr>\n",
              "  </thead>\n",
              "  <tbody>\n",
              "    <tr>\n",
              "      <th>0</th>\n",
              "      <td>20161084</td>\n",
              "      <td>패신저스</td>\n",
              "      <td>모튼 틸덤</td>\n",
              "      <td>2017</td>\n",
              "    </tr>\n",
              "    <tr>\n",
              "      <th>1</th>\n",
              "      <td>20124127</td>\n",
              "      <td>헝거게임: 판엠의 불꽃</td>\n",
              "      <td>게리 로스</td>\n",
              "      <td>2012</td>\n",
              "    </tr>\n",
              "    <tr>\n",
              "      <th>2</th>\n",
              "      <td>20124721</td>\n",
              "      <td>어벤져스</td>\n",
              "      <td>조스 웨던</td>\n",
              "      <td>2012</td>\n",
              "    </tr>\n",
              "    <tr>\n",
              "      <th>3</th>\n",
              "      <td>20050310</td>\n",
              "      <td>해리 포터와 불의 잔</td>\n",
              "      <td>마이크 뉴웰</td>\n",
              "      <td>2005</td>\n",
              "    </tr>\n",
              "    <tr>\n",
              "      <th>4</th>\n",
              "      <td>20081697</td>\n",
              "      <td>트와일라잇</td>\n",
              "      <td>캐서린 하드윅</td>\n",
              "      <td>2008</td>\n",
              "    </tr>\n",
              "  </tbody>\n",
              "</table>\n",
              "</div>"
            ],
            "text/plain": [
              "    movieCd       movieNm directors openYr\n",
              "0  20161084          패신저스     모튼 틸덤   2017\n",
              "1  20124127  헝거게임: 판엠의 불꽃     게리 로스   2012\n",
              "2  20124721          어벤져스     조스 웨던   2012\n",
              "3  20050310   해리 포터와 불의 잔    마이크 뉴웰   2005\n",
              "4  20081697         트와일라잇   캐서린 하드윅   2008"
            ]
          },
          "metadata": {
            "tags": []
          },
          "execution_count": 4
        }
      ]
    },
    {
      "cell_type": "markdown",
      "metadata": {
        "id": "5INiutQwrCa8"
      },
      "source": [
        "영화코드로 배우추출"
      ]
    },
    {
      "cell_type": "code",
      "metadata": {
        "id": "F3P5PO8PBa5G",
        "colab": {
          "base_uri": "https://localhost:8080/"
        },
        "outputId": "cda69b56-5518-49d9-ef01-7607ed74df27"
      },
      "source": [
        "movie_detail_list = []\n",
        "movie_director_list = []\n",
        "movie_cast_list = []    # 한 영화당 최대 10명의 배우를 추출하여 저장한 리스트\n",
        "direct_list = []\n",
        "movie_mainactor_list = []    # 한 영화당 최대 2명(주인공)의 배우를 추출하여 저장한 리스트\n",
        "actor_list = []              # 5개 영화의 movie_cast_list을 모은 것\n",
        "mainactor_list = []          # 5개 영화의 movie_mainactor_list을 모은 것\n",
        "movie_actor_list = [[] for i in range(0,5)]\n",
        "movie_direc_list = [[] for i in range(0,5)]\n",
        "j=0\n",
        "\n",
        "for movieCd in movie_cdlist_df['movieCd']:\n",
        "  movie_director_list.clear()\n",
        "  movie_cast_list.clear()\n",
        "  movie_mainactor_list.clear()\n",
        "  actor_list_url = 'https://www.kobis.or.kr/kobisopenapi/webservice/rest/movie/searchMovieInfo.json?key=d99e474ec53733a372d8413bd2753506&movieCd='+movieCd\n",
        "  res = requests.get(actor_list_url)\n",
        "  text = res.text\n",
        "  d = json.loads(text)\n",
        "\n",
        "  for direc in d['movieInfoResult']['movieInfo']['directors']:\n",
        "    movie_director_list.append(direc['peopleNm'])\n",
        "  direct_list+=movie_director_list\n",
        "\n",
        "  for cast in d['movieInfoResult']['movieInfo']['actors']:\n",
        "    if len(movie_mainactor_list) < 2:\n",
        "      movie_mainactor_list.append(cast['peopleNm'])\n",
        "    if len(movie_cast_list) <= 9:\n",
        "      movie_cast_list.append(cast['peopleNm'])\n",
        "  #print(movie_cast_list)\n",
        "  actor_list += movie_cast_list\n",
        "  mainactor_list += movie_mainactor_list\n",
        "\n",
        "  j+=1\n",
        "\n",
        "print(direct_list)\n",
        "print(actor_list)\n",
        "print(mainactor_list)"
      ],
      "execution_count": null,
      "outputs": [
        {
          "output_type": "stream",
          "text": [
            "['모튼 틸덤', '게리 로스', '조스 웨던', '마이크 뉴웰', '캐서린 하드윅']\n",
            "['크리스 프랫', '제니퍼 로렌스', '마이클 쉰', '앤디 가르시아', '로렌스 피쉬번', '제니퍼 로렌스', '조쉬 허처슨', '리암 헴스워스', '엘리자베스 뱅크스', '로버트 다우니 주니어', '스칼렛 요한슨', '크리스 헴스워스', '크리스 에반스', '제레미 레너', '다니엘 래드클리프', '루퍼트 그린트', '엠마 왓슨', '랄프 파인즈', '로버트 패틴슨', '크리스틴 스튜어트', '로버트 패틴슨']\n",
            "['크리스 프랫', '제니퍼 로렌스', '제니퍼 로렌스', '조쉬 허처슨', '로버트 다우니 주니어', '스칼렛 요한슨', '다니엘 래드클리프', '루퍼트 그린트', '크리스틴 스튜어트', '로버트 패틴슨']\n"
          ],
          "name": "stdout"
        }
      ]
    },
    {
      "cell_type": "markdown",
      "metadata": {
        "id": "FdXZrEUGCvQI"
      },
      "source": [
        "배우 등장 횟수 세기"
      ]
    },
    {
      "cell_type": "code",
      "metadata": {
        "colab": {
          "base_uri": "https://localhost:8080/"
        },
        "id": "44u_LmGqjRL9",
        "outputId": "0d087131-5a52-46a1-dfbc-122dfae121db"
      },
      "source": [
        "actor_dict = dict()\n",
        "for i in actor_list:\n",
        "  if i not in actor_dict:\n",
        "    actor_dict[i]=1\n",
        "  else:\n",
        "    actor_dict[i] = actor_dict[i]+1\n",
        "\n",
        "actor_dict"
      ],
      "execution_count": null,
      "outputs": [
        {
          "output_type": "execute_result",
          "data": {
            "text/plain": [
              "{'다니엘 래드클리프': 1,\n",
              " '랄프 파인즈': 1,\n",
              " '로렌스 피쉬번': 1,\n",
              " '로버트 다우니 주니어': 1,\n",
              " '로버트 패틴슨': 2,\n",
              " '루퍼트 그린트': 1,\n",
              " '리암 헴스워스': 1,\n",
              " '마이클 쉰': 1,\n",
              " '스칼렛 요한슨': 1,\n",
              " '앤디 가르시아': 1,\n",
              " '엘리자베스 뱅크스': 1,\n",
              " '엠마 왓슨': 1,\n",
              " '제니퍼 로렌스': 2,\n",
              " '제레미 레너': 1,\n",
              " '조쉬 허처슨': 1,\n",
              " '크리스 에반스': 1,\n",
              " '크리스 프랫': 1,\n",
              " '크리스 헴스워스': 1,\n",
              " '크리스틴 스튜어트': 1}"
            ]
          },
          "metadata": {
            "tags": []
          },
          "execution_count": 13
        }
      ]
    },
    {
      "cell_type": "markdown",
      "metadata": {
        "id": "ZRgLBwF3C6QQ"
      },
      "source": [
        "주연배우(출연진리스트 맨 앞 2사람) 등장 횟수"
      ]
    },
    {
      "cell_type": "code",
      "metadata": {
        "colab": {
          "base_uri": "https://localhost:8080/"
        },
        "id": "UGX3WvTzrPxw",
        "outputId": "bb4fe0c0-5285-4834-e59c-3fa002a952be"
      },
      "source": [
        "mainactor_dict = dict()\n",
        "for i in mainactor_list:\n",
        "  if i not in mainactor_dict:\n",
        "    mainactor_dict[i]=1\n",
        "  else:\n",
        "    mainactor_dict[i] = mainactor_dict[i]+1\n",
        "\n",
        "mainactor_dict"
      ],
      "execution_count": null,
      "outputs": [
        {
          "output_type": "execute_result",
          "data": {
            "text/plain": [
              "{'다니엘 래드클리프': 1,\n",
              " '로버트 다우니 주니어': 1,\n",
              " '로버트 패틴슨': 1,\n",
              " '루퍼트 그린트': 1,\n",
              " '스칼렛 요한슨': 1,\n",
              " '제니퍼 로렌스': 2,\n",
              " '조쉬 허처슨': 1,\n",
              " '크리스 프랫': 1,\n",
              " '크리스틴 스튜어트': 1}"
            ]
          },
          "metadata": {
            "tags": []
          },
          "execution_count": 14
        }
      ]
    },
    {
      "cell_type": "markdown",
      "metadata": {
        "id": "b3rKshrRDBP9"
      },
      "source": [
        "추천해줄 배우 5명 선별\n",
        "* 2번 이상 등장한 배우 우선 선발\n",
        "* 빈자리는 랜덤으로 고름"
      ]
    },
    {
      "cell_type": "code",
      "metadata": {
        "colab": {
          "base_uri": "https://localhost:8080/"
        },
        "id": "hcsjfFTYrkcC",
        "outputId": "5e2991e7-26d8-408e-bc16-c74d377089dd"
      },
      "source": [
        "import random\n",
        "\n",
        "prefer_actor_list = []\n",
        "for key, value in actor_dict.items():\n",
        "  if value > 1:\n",
        "    prefer_actor_list.append(key)\n",
        "if len(prefer_actor_list)<5:\n",
        "  for i in range(5-len(prefer_actor_list)):\n",
        "    actor = random.choice(mainactor_list)\n",
        "    if actor not in prefer_actor_list:\n",
        "      prefer_actor_list.append(actor)\n",
        "  \n",
        "prefer_actor_list"
      ],
      "execution_count": null,
      "outputs": [
        {
          "output_type": "execute_result",
          "data": {
            "text/plain": [
              "['제니퍼 로렌스', '로버트 패틴슨', '조쉬 허처슨', '스칼렛 요한슨', '로버트 다우니 주니어']"
            ]
          },
          "metadata": {
            "tags": []
          },
          "execution_count": 32
        }
      ]
    },
    {
      "cell_type": "markdown",
      "metadata": {
        "id": "ZHVuO8TjDgFd"
      },
      "source": [
        "배우 코드 추출"
      ]
    },
    {
      "cell_type": "code",
      "metadata": {
        "id": "GqqxuiADLF75"
      },
      "source": [
        "actor_code = []\n",
        "filmo_list = []\n",
        "\n",
        "for prefer_actor in prefer_actor_list:\n",
        "  actor_list_url = 'http://kobis.or.kr/kobisopenapi/webservice/rest/people/searchPeopleList.json?key=d99e474ec53733a372d8413bd2753506'+'&peopleNm='+prefer_actor\n",
        "  res = requests.get(actor_list_url)\n",
        "  text = res.text\n",
        "  d = json.loads(text)\n",
        "\n",
        "  for actor in d['peopleListResult']['peopleList']:\n",
        "    if actor['repRoleNm'] == '배우':\n",
        "      filmo_list = actor['filmoNames'].split(\"|\")\n",
        "      actor_code.append([actor['peopleCd'], actor['peopleNm'],actor['peopleNmEn'],\n",
        "                         actor['repRoleNm'], filmo_list[:5]])"
      ],
      "execution_count": null,
      "outputs": []
    },
    {
      "cell_type": "code",
      "metadata": {
        "colab": {
          "base_uri": "https://localhost:8080/",
          "height": 203
        },
        "id": "Ibtv6fC9MgrL",
        "outputId": "93ecb0a5-a3ff-4240-919b-4cea58861906"
      },
      "source": [
        "actor_code_df = pd.DataFrame(actor_code)\n",
        "actor_code_df.columns = ['peopleCd','peopleNm','peopleNmEn','repRoleNm','filmoNames']\n",
        "actor_code_df"
      ],
      "execution_count": null,
      "outputs": [
        {
          "output_type": "execute_result",
          "data": {
            "text/html": [
              "<div>\n",
              "<style scoped>\n",
              "    .dataframe tbody tr th:only-of-type {\n",
              "        vertical-align: middle;\n",
              "    }\n",
              "\n",
              "    .dataframe tbody tr th {\n",
              "        vertical-align: top;\n",
              "    }\n",
              "\n",
              "    .dataframe thead th {\n",
              "        text-align: right;\n",
              "    }\n",
              "</style>\n",
              "<table border=\"1\" class=\"dataframe\">\n",
              "  <thead>\n",
              "    <tr style=\"text-align: right;\">\n",
              "      <th></th>\n",
              "      <th>peopleCd</th>\n",
              "      <th>peopleNm</th>\n",
              "      <th>peopleNmEn</th>\n",
              "      <th>repRoleNm</th>\n",
              "      <th>filmoNames</th>\n",
              "    </tr>\n",
              "  </thead>\n",
              "  <tbody>\n",
              "    <tr>\n",
              "      <th>0</th>\n",
              "      <td>10062627</td>\n",
              "      <td>제니퍼 로렌스</td>\n",
              "      <td>Jennifer Lawrence</td>\n",
              "      <td>배우</td>\n",
              "      <td>[엑스맨: 다크 피닉스, 레드 스패로, 마더!, 패신저스, 엑스맨: 아포칼립스]</td>\n",
              "    </tr>\n",
              "    <tr>\n",
              "      <th>1</th>\n",
              "      <td>20111975</td>\n",
              "      <td>로버트 패틴슨</td>\n",
              "      <td>Robert Pattinson</td>\n",
              "      <td>배우</td>\n",
              "      <td>[테넷, 하이 라이프, 굿타임, 잃어버린 도시 Z, 퀸 오브 데저트]</td>\n",
              "    </tr>\n",
              "    <tr>\n",
              "      <th>2</th>\n",
              "      <td>10066309</td>\n",
              "      <td>조쉬 허처슨</td>\n",
              "      <td>Josh Hutcherson</td>\n",
              "      <td>배우</td>\n",
              "      <td>[엘리엇과 산타 썰매단, 헝거게임: 더 파이널, 헝거게임: 모킹제이, 파라다이스 로...</td>\n",
              "    </tr>\n",
              "    <tr>\n",
              "      <th>3</th>\n",
              "      <td>10038163</td>\n",
              "      <td>스칼렛 요한슨</td>\n",
              "      <td>Scarlett Johansson</td>\n",
              "      <td>배우</td>\n",
              "      <td>[블랙 위도우, 씽2게더, 조조 래빗, 결혼 이야기, 어벤져스: 엔드게임]</td>\n",
              "    </tr>\n",
              "    <tr>\n",
              "      <th>4</th>\n",
              "      <td>10016538</td>\n",
              "      <td>로버트 다우니 주니어</td>\n",
              "      <td>Robert Downey Jr.</td>\n",
              "      <td>배우</td>\n",
              "      <td>[닥터 두리틀, 어벤져스: 엔드게임, 어벤져스: 인피니티 워, 스파이더맨: 홈 커밍...</td>\n",
              "    </tr>\n",
              "  </tbody>\n",
              "</table>\n",
              "</div>"
            ],
            "text/plain": [
              "   peopleCd  ...                                         filmoNames\n",
              "0  10062627  ...       [엑스맨: 다크 피닉스, 레드 스패로, 마더!, 패신저스, 엑스맨: 아포칼립스]\n",
              "1  20111975  ...             [테넷, 하이 라이프, 굿타임, 잃어버린 도시 Z, 퀸 오브 데저트]\n",
              "2  10066309  ...  [엘리엇과 산타 썰매단, 헝거게임: 더 파이널, 헝거게임: 모킹제이, 파라다이스 로...\n",
              "3  10038163  ...          [블랙 위도우, 씽2게더, 조조 래빗, 결혼 이야기, 어벤져스: 엔드게임]\n",
              "4  10016538  ...  [닥터 두리틀, 어벤져스: 엔드게임, 어벤져스: 인피니티 워, 스파이더맨: 홈 커밍...\n",
              "\n",
              "[5 rows x 5 columns]"
            ]
          },
          "metadata": {
            "tags": []
          },
          "execution_count": 52
        }
      ]
    }
  ]
}