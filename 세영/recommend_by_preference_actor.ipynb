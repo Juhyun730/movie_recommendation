{
  "nbformat": 4,
  "nbformat_minor": 0,
  "metadata": {
    "colab": {
      "name": "recommend_by_preference_actor.ipynb",
      "provenance": []
    },
    "kernelspec": {
      "name": "python3",
      "display_name": "Python 3"
    },
    "language_info": {
      "name": "python"
    }
  },
  "cells": [
    {
      "cell_type": "markdown",
      "metadata": {
        "id": "KmVnwWbK8Hra"
      },
      "source": [
        "## 영화 5개 입력받기"
      ]
    },
    {
      "cell_type": "code",
      "metadata": {
        "colab": {
          "base_uri": "https://localhost:8080/"
        },
        "id": "PetcT8gO73Pl",
        "outputId": "d5835b9a-ee93-40ae-ba95-5a8a20eba75f"
      },
      "source": [
        "print(\"좋아하는 영화 5개를 입력해주세요(구분은 ,로): \")\n",
        "movie_list = input().split(\", \")\n",
        "print(movie_list)"
      ],
      "execution_count": null,
      "outputs": [
        {
          "output_type": "stream",
          "text": [
            "좋아하는 영화 5개를 입력해주세요(구분은 ,로): \n",
            "모가디슈, 블랙위도우, 라라랜드, 천문, 크루엘라\n",
            "['모가디슈', '블랙위도우', '라라랜드', '천문', '크루엘라']\n"
          ],
          "name": "stdout"
        }
      ]
    },
    {
      "cell_type": "markdown",
      "metadata": {
        "id": "v51SNg4h-KF_"
      },
      "source": [
        "## 영화별 출연진 정보 가져오기"
      ]
    },
    {
      "cell_type": "markdown",
      "metadata": {
        "id": "lqEXLqBq_-Lo"
      },
      "source": [
        "영화 목록에서 영화코드 추출"
      ]
    },
    {
      "cell_type": "code",
      "metadata": {
        "id": "_lX0V_AKAZCx"
      },
      "source": [
        "import requests\n",
        "import json"
      ],
      "execution_count": null,
      "outputs": []
    },
    {
      "cell_type": "code",
      "metadata": {
        "colab": {
          "base_uri": "https://localhost:8080/"
        },
        "id": "kVyHImeY9rW0",
        "outputId": "fdae5338-cba5-4f8e-f13d-090bc2f59bb3"
      },
      "source": [
        "movie_cd_list = []\n",
        "director_list = []\n",
        "selected_movie_list = []\n",
        "\n",
        "for movie in movie_list:\n",
        "  movie_cd_url = 'https://www.kobis.or.kr/kobisopenapi/webservice/rest/movie/searchMovieList.json?key=d99e474ec53733a372d8413bd2753506&movieNm='+movie\n",
        "  res = requests.get(movie_cd_url)\n",
        "  text = res.text\n",
        "  d = json.loads(text)\n",
        "  if d['movieListResult']['totCnt'] > 1:    # 동명의 영화가 있을 경우\n",
        "    item_year = input(movie+\"의 개봉연도를 입력하세요: \")   # 개봉연도로 구분\n",
        "    for item in d['movieListResult']['movieList']:\n",
        "      if item_year == item['openDt'][:4]:\n",
        "          # director_list = director['peopleNm']\n",
        "        movie_cd_list.append([item['movieCd'],\n",
        "                              item['movieNm'],\n",
        "                              item['openDt'][:4]])\n",
        "        selected_movie_list.append(item['movieNm'])\n",
        "  if d['movieListResult']['totCnt'] == 1:\n",
        "    for item in d['movieListResult']['movieList']:\n",
        "      movie_cd_list.append([item['movieCd'],\n",
        "                            item['movieNm'],\n",
        "                            item['openDt'][:4]])\n",
        "      selected_movie_list.append(item['movieNm'])\n",
        "  \n",
        "print(movie_cd_list)\n",
        "print(selected_movie_list)"
      ],
      "execution_count": null,
      "outputs": [
        {
          "output_type": "stream",
          "text": [
            "모가디슈의 개봉연도를 입력하세요: 2021\n",
            "블랙위도우의 개봉연도를 입력하세요: 2021\n",
            "천문의 개봉연도를 입력하세요: 2019\n",
            "[['20204117', '모가디슈', '2021'], ['20191951', '블랙 위도우', '2021'], ['20167904', '라라랜드', '2016'], ['20184571', '천문: 하늘에 묻는다', '2019'], ['20216362', '크루엘라', '2021']]\n",
            "['모가디슈', '블랙 위도우', '라라랜드', '천문: 하늘에 묻는다', '크루엘라']\n"
          ],
          "name": "stdout"
        }
      ]
    },
    {
      "cell_type": "code",
      "metadata": {
        "colab": {
          "base_uri": "https://localhost:8080/",
          "height": 203
        },
        "id": "GOvFd3dABDd5",
        "outputId": "f727c6d4-e748-4df1-98a1-2360381d0074"
      },
      "source": [
        "import pandas as pd\n",
        "\n",
        "movie_cdlist_df = pd.DataFrame(movie_cd_list)\n",
        "movie_cdlist_df.columns = ['movieCd', 'movieNm','openYr']\n",
        "movie_cdlist_df"
      ],
      "execution_count": null,
      "outputs": [
        {
          "output_type": "execute_result",
          "data": {
            "text/html": [
              "<div>\n",
              "<style scoped>\n",
              "    .dataframe tbody tr th:only-of-type {\n",
              "        vertical-align: middle;\n",
              "    }\n",
              "\n",
              "    .dataframe tbody tr th {\n",
              "        vertical-align: top;\n",
              "    }\n",
              "\n",
              "    .dataframe thead th {\n",
              "        text-align: right;\n",
              "    }\n",
              "</style>\n",
              "<table border=\"1\" class=\"dataframe\">\n",
              "  <thead>\n",
              "    <tr style=\"text-align: right;\">\n",
              "      <th></th>\n",
              "      <th>movieCd</th>\n",
              "      <th>movieNm</th>\n",
              "      <th>openYr</th>\n",
              "    </tr>\n",
              "  </thead>\n",
              "  <tbody>\n",
              "    <tr>\n",
              "      <th>0</th>\n",
              "      <td>20204117</td>\n",
              "      <td>모가디슈</td>\n",
              "      <td>2021</td>\n",
              "    </tr>\n",
              "    <tr>\n",
              "      <th>1</th>\n",
              "      <td>20191951</td>\n",
              "      <td>블랙 위도우</td>\n",
              "      <td>2021</td>\n",
              "    </tr>\n",
              "    <tr>\n",
              "      <th>2</th>\n",
              "      <td>20167904</td>\n",
              "      <td>라라랜드</td>\n",
              "      <td>2016</td>\n",
              "    </tr>\n",
              "    <tr>\n",
              "      <th>3</th>\n",
              "      <td>20184571</td>\n",
              "      <td>천문: 하늘에 묻는다</td>\n",
              "      <td>2019</td>\n",
              "    </tr>\n",
              "    <tr>\n",
              "      <th>4</th>\n",
              "      <td>20216362</td>\n",
              "      <td>크루엘라</td>\n",
              "      <td>2021</td>\n",
              "    </tr>\n",
              "  </tbody>\n",
              "</table>\n",
              "</div>"
            ],
            "text/plain": [
              "    movieCd      movieNm openYr\n",
              "0  20204117         모가디슈   2021\n",
              "1  20191951       블랙 위도우   2021\n",
              "2  20167904         라라랜드   2016\n",
              "3  20184571  천문: 하늘에 묻는다   2019\n",
              "4  20216362         크루엘라   2021"
            ]
          },
          "metadata": {
            "tags": []
          },
          "execution_count": 4
        }
      ]
    },
    {
      "cell_type": "markdown",
      "metadata": {
        "id": "5INiutQwrCa8"
      },
      "source": [
        "영화코드로 배우추출"
      ]
    },
    {
      "cell_type": "code",
      "metadata": {
        "id": "F3P5PO8PBa5G",
        "colab": {
          "base_uri": "https://localhost:8080/"
        },
        "outputId": "6ae8ee1c-be1c-4de1-b359-d8d77ef31e52"
      },
      "source": [
        "movie_detail_list = []\n",
        "movie_director_list = []\n",
        "movie_cast_list = []    # 한 영화당 최대 10명의 배우를 추출하여 저장한 리스트\n",
        "direct_list = []\n",
        "movie_mainactor_list = []    # 한 영화당 최대 2명(주인공)의 배우를 추출하여 저장한 리스트\n",
        "actor_list = []              # 5개 영화의 movie_cast_list을 모은 것\n",
        "mainactor_list = []          # 5개 영화의 movie_mainactor_list을 모은 것\n",
        "movie_actor_list = [[] for i in range(0,5)]\n",
        "movie_direc_list = [[] for i in range(0,5)]\n",
        "j=0\n",
        "\n",
        "for movieCd in movie_cdlist_df['movieCd']:\n",
        "  movie_director_list.clear()\n",
        "  movie_cast_list.clear()\n",
        "  movie_mainactor_list.clear()\n",
        "  actor_list_url = 'https://www.kobis.or.kr/kobisopenapi/webservice/rest/movie/searchMovieInfo.json?key=d99e474ec53733a372d8413bd2753506&movieCd='+movieCd\n",
        "  res = requests.get(actor_list_url)\n",
        "  text = res.text\n",
        "  d = json.loads(text)\n",
        "\n",
        "  for direc in d['movieInfoResult']['movieInfo']['directors']:\n",
        "    movie_director_list.append(direc['peopleNm'])\n",
        "  direct_list+=movie_director_list\n",
        "\n",
        "  for cast in d['movieInfoResult']['movieInfo']['actors']:\n",
        "    if len(movie_mainactor_list) < 2:\n",
        "      movie_mainactor_list.append(cast['peopleNm'])\n",
        "    if len(movie_cast_list) <= 9:\n",
        "      movie_cast_list.append(cast['peopleNm'])\n",
        "  #print(movie_cast_list)\n",
        "  actor_list += movie_cast_list\n",
        "  mainactor_list += movie_mainactor_list\n",
        "\n",
        "  j+=1\n",
        "\n",
        "print(direct_list)\n",
        "print(actor_list)\n",
        "print(mainactor_list)"
      ],
      "execution_count": null,
      "outputs": [
        {
          "output_type": "stream",
          "text": [
            "['류승완', '케이트 쇼트랜드', '데이미언 셔젤', '허진호', '크레이그 질레스피']\n",
            "['김윤석', '조인성', '허준호', '구교환', '김소진', '정만식', '김재화', '박경혜', '박명신', '한철우', '스칼렛 요한슨', '플로렌스 퓨', '레이첼 와이즈', '데이빗 하버', '엠마 스톤', '라이언 고슬링', '핀 위트록', 'J.K. 시몬스', '로즈마리 드윗', '최민식', '한석규', '신구', '김홍파', '허준호', '김태우', '김원해', '임원희', '오광록', '박성훈', '엠마 스톤', '엠마 톰슨', '마크 스트롱']\n",
            "['김윤석', '조인성', '스칼렛 요한슨', '플로렌스 퓨', '엠마 스톤', '라이언 고슬링', '최민식', '한석규', '엠마 스톤', '엠마 톰슨']\n"
          ],
          "name": "stdout"
        }
      ]
    },
    {
      "cell_type": "markdown",
      "metadata": {
        "id": "FdXZrEUGCvQI"
      },
      "source": [
        "배우 등장 횟수 세기"
      ]
    },
    {
      "cell_type": "code",
      "metadata": {
        "colab": {
          "base_uri": "https://localhost:8080/"
        },
        "id": "44u_LmGqjRL9",
        "outputId": "da0e00eb-ee77-4784-980a-d2010d29fcb3"
      },
      "source": [
        "actor_dict = dict()\n",
        "for i in actor_list:\n",
        "  if i not in actor_dict:\n",
        "    actor_dict[i]=1\n",
        "  else:\n",
        "    actor_dict[i] = actor_dict[i]+1\n",
        "\n",
        "actor_dict"
      ],
      "execution_count": null,
      "outputs": [
        {
          "output_type": "execute_result",
          "data": {
            "text/plain": [
              "{'J.K. 시몬스': 1,\n",
              " '구교환': 1,\n",
              " '김소진': 1,\n",
              " '김원해': 1,\n",
              " '김윤석': 1,\n",
              " '김재화': 1,\n",
              " '김태우': 1,\n",
              " '김홍파': 1,\n",
              " '데이빗 하버': 1,\n",
              " '라이언 고슬링': 1,\n",
              " '레이첼 와이즈': 1,\n",
              " '로즈마리 드윗': 1,\n",
              " '마크 스트롱': 1,\n",
              " '박경혜': 1,\n",
              " '박명신': 1,\n",
              " '박성훈': 1,\n",
              " '스칼렛 요한슨': 1,\n",
              " '신구': 1,\n",
              " '엠마 스톤': 2,\n",
              " '엠마 톰슨': 1,\n",
              " '오광록': 1,\n",
              " '임원희': 1,\n",
              " '정만식': 1,\n",
              " '조인성': 1,\n",
              " '최민식': 1,\n",
              " '플로렌스 퓨': 1,\n",
              " '핀 위트록': 1,\n",
              " '한석규': 1,\n",
              " '한철우': 1,\n",
              " '허준호': 2}"
            ]
          },
          "metadata": {
            "tags": []
          },
          "execution_count": 6
        }
      ]
    },
    {
      "cell_type": "markdown",
      "metadata": {
        "id": "ZRgLBwF3C6QQ"
      },
      "source": [
        "주연배우(출연진리스트 맨 앞 2사람) 등장 횟수"
      ]
    },
    {
      "cell_type": "code",
      "metadata": {
        "colab": {
          "base_uri": "https://localhost:8080/"
        },
        "id": "UGX3WvTzrPxw",
        "outputId": "71d345d1-1cae-4678-e450-fdc47f60d6b8"
      },
      "source": [
        "mainactor_dict = dict()\n",
        "for i in mainactor_list:\n",
        "  if i not in mainactor_dict:\n",
        "    mainactor_dict[i]=1\n",
        "  else:\n",
        "    mainactor_dict[i] = mainactor_dict[i]+1\n",
        "\n",
        "mainactor_dict"
      ],
      "execution_count": null,
      "outputs": [
        {
          "output_type": "execute_result",
          "data": {
            "text/plain": [
              "{'김윤석': 1,\n",
              " '라이언 고슬링': 1,\n",
              " '스칼렛 요한슨': 1,\n",
              " '엠마 스톤': 2,\n",
              " '엠마 톰슨': 1,\n",
              " '조인성': 1,\n",
              " '최민식': 1,\n",
              " '플로렌스 퓨': 1,\n",
              " '한석규': 1}"
            ]
          },
          "metadata": {
            "tags": []
          },
          "execution_count": 7
        }
      ]
    },
    {
      "cell_type": "markdown",
      "metadata": {
        "id": "b3rKshrRDBP9"
      },
      "source": [
        "추천해줄 배우 5명 선별\n",
        "* 2번 이상 등장한 배우 우선 선발\n",
        "* 빈자리는 주연배우 리스트에서 랜덤으로 고름"
      ]
    },
    {
      "cell_type": "code",
      "metadata": {
        "colab": {
          "base_uri": "https://localhost:8080/"
        },
        "id": "hcsjfFTYrkcC",
        "outputId": "5548d463-15ea-48a2-e043-76d24153407e"
      },
      "source": [
        "import random\n",
        "\n",
        "prefer_actor_list = []\n",
        "for key, value in actor_dict.items():\n",
        "  if value > 1:\n",
        "    prefer_actor_list.append(key)\n",
        "if len(prefer_actor_list)<5:\n",
        "  for i in range(5-len(prefer_actor_list)):\n",
        "    actor = random.choice(mainactor_list)\n",
        "    if actor not in prefer_actor_list:\n",
        "      prefer_actor_list.append(actor)\n",
        "  \n",
        "prefer_actor_list"
      ],
      "execution_count": null,
      "outputs": [
        {
          "output_type": "execute_result",
          "data": {
            "text/plain": [
              "['허준호', '엠마 스톤', '최민식']"
            ]
          },
          "metadata": {
            "tags": []
          },
          "execution_count": 8
        }
      ]
    },
    {
      "cell_type": "markdown",
      "metadata": {
        "id": "ZHVuO8TjDgFd"
      },
      "source": [
        "배우 코드 추출"
      ]
    },
    {
      "cell_type": "code",
      "metadata": {
        "id": "GqqxuiADLF75"
      },
      "source": [
        "actor_code = []\n",
        "filmo_list = []\n",
        "final_filmo_list = []\n",
        "\n",
        "for prefer_actor in prefer_actor_list:\n",
        "  actor_list_url = 'http://kobis.or.kr/kobisopenapi/webservice/rest/people/searchPeopleList.json?key=d99e474ec53733a372d8413bd2753506'+'&peopleNm='+prefer_actor\n",
        "  res = requests.get(actor_list_url)\n",
        "  text = res.text\n",
        "  d = json.loads(text)\n",
        "\n",
        "  for actor in d['peopleListResult']['peopleList']:\n",
        "    final_filmo_list.clear()\n",
        "    if actor['repRoleNm'] == '배우' and actor['peopleNmEn']!= \"\":\n",
        "      filmo_list = actor['filmoNames'].split(\"|\")\n",
        "      for filmo in filmo_list:\n",
        "        if filmo not in selected_movie_list:\n",
        "          final_filmo_list.append(filmo)\n",
        "      actor_code.append([actor['peopleCd'], actor['peopleNm'],actor['peopleNmEn'],\n",
        "                         actor['repRoleNm'], final_filmo_list[:5]])"
      ],
      "execution_count": null,
      "outputs": []
    },
    {
      "cell_type": "code",
      "metadata": {
        "colab": {
          "base_uri": "https://localhost:8080/"
        },
        "id": "D34M1WHDpLTR",
        "outputId": "3474b099-9bee-44c1-ac5b-6b90e25a4e6c"
      },
      "source": [
        "print(selected_movie_list)\n",
        "print(filmo_list)"
      ],
      "execution_count": null,
      "outputs": [
        {
          "output_type": "stream",
          "text": [
            "['모가디슈', '블랙 위도우', '라라랜드', '천문: 하늘에 묻는다', '크루엘라']\n",
            "['이상한 나라의 수학자', '천문: 하늘에 묻는다', '봉오동 전투', '헤븐: 행복의 나라로', '침묵', '특별시민', '대호', '루시', '명량', '신세계', '범죄와의 전쟁: 나쁜놈들 전성시대', '마당을 나온 암탉', '악마를 보았다', '악마를 보았다 감독판', '히말라야, 바람이 머무는 곳', '친절한 금자씨', '주먹이 운다(Crying Fist)', '꽃피는 봄이 오면', '올드보이', '오원 장승업 취화선', '취화선', '파이란', '해피엔드', '쉬리', '조용한 가족', '넘버 3', '사라는 유죄', '우리사랑 이대로', '우리들의 일그러진 영웅', '추락하는 것은 날개가 있다', '구로 아리랑', '겨울의 길목']\n"
          ],
          "name": "stdout"
        }
      ]
    },
    {
      "cell_type": "code",
      "metadata": {
        "colab": {
          "base_uri": "https://localhost:8080/",
          "height": 142
        },
        "id": "Ibtv6fC9MgrL",
        "outputId": "9ec63c05-00f1-4bd6-89c1-f3b76b6014be"
      },
      "source": [
        "actor_code_df = pd.DataFrame(actor_code)\n",
        "actor_code_df.columns = ['peopleCd','peopleNm','peopleNmEn','repRoleNm','filmoNames']\n",
        "actor_code_df"
      ],
      "execution_count": null,
      "outputs": [
        {
          "output_type": "execute_result",
          "data": {
            "text/html": [
              "<div>\n",
              "<style scoped>\n",
              "    .dataframe tbody tr th:only-of-type {\n",
              "        vertical-align: middle;\n",
              "    }\n",
              "\n",
              "    .dataframe tbody tr th {\n",
              "        vertical-align: top;\n",
              "    }\n",
              "\n",
              "    .dataframe thead th {\n",
              "        text-align: right;\n",
              "    }\n",
              "</style>\n",
              "<table border=\"1\" class=\"dataframe\">\n",
              "  <thead>\n",
              "    <tr style=\"text-align: right;\">\n",
              "      <th></th>\n",
              "      <th>peopleCd</th>\n",
              "      <th>peopleNm</th>\n",
              "      <th>peopleNmEn</th>\n",
              "      <th>repRoleNm</th>\n",
              "      <th>filmoNames</th>\n",
              "    </tr>\n",
              "  </thead>\n",
              "  <tbody>\n",
              "    <tr>\n",
              "      <th>0</th>\n",
              "      <td>10088453</td>\n",
              "      <td>허준호</td>\n",
              "      <td>HUH Joon-ho</td>\n",
              "      <td>배우</td>\n",
              "      <td>[노량: 죽음의 바다, 결백, 퍼펙트맨, 국가부도의 날, 인랑]</td>\n",
              "    </tr>\n",
              "    <tr>\n",
              "      <th>1</th>\n",
              "      <td>10049633</td>\n",
              "      <td>엠마 스톤</td>\n",
              "      <td>Emma Stone</td>\n",
              "      <td>배우</td>\n",
              "      <td>[크루즈 패밀리: 뉴 에이지, 좀비랜드: 더블 탭, 더 페이버릿: 여왕의 여자, 빌...</td>\n",
              "    </tr>\n",
              "    <tr>\n",
              "      <th>2</th>\n",
              "      <td>10072251</td>\n",
              "      <td>최민식</td>\n",
              "      <td>CHOI Min-shik</td>\n",
              "      <td>배우</td>\n",
              "      <td>[이상한 나라의 수학자, 봉오동 전투, 헤븐: 행복의 나라로, 침묵, 특별시민]</td>\n",
              "    </tr>\n",
              "  </tbody>\n",
              "</table>\n",
              "</div>"
            ],
            "text/plain": [
              "   peopleCd  ...                                         filmoNames\n",
              "0  10088453  ...                [노량: 죽음의 바다, 결백, 퍼펙트맨, 국가부도의 날, 인랑]\n",
              "1  10049633  ...  [크루즈 패밀리: 뉴 에이지, 좀비랜드: 더블 탭, 더 페이버릿: 여왕의 여자, 빌...\n",
              "2  10072251  ...       [이상한 나라의 수학자, 봉오동 전투, 헤븐: 행복의 나라로, 침묵, 특별시민]\n",
              "\n",
              "[3 rows x 5 columns]"
            ]
          },
          "metadata": {
            "tags": []
          },
          "execution_count": 11
        }
      ]
    }
  ]
}