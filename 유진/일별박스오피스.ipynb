{
 "cells": [
  {
   "cell_type": "code",
   "execution_count": 2,
   "metadata": {},
   "outputs": [
    {
     "name": "stdout",
     "output_type": "stream",
     "text": [
      "20210808\n",
      "{'boxOfficeResult': {'boxofficeType': '일별 박스오피스', 'showRange': '20210808~20210808', 'dailyBoxOfficeList': [{'rnum': '1', 'rank': '1', 'rankInten': '0', 'rankOldAndNew': 'OLD', 'movieCd': '20204117', 'movieNm': '모가디슈', 'openDt': '2021-07-28', 'salesAmt': '2000885380', 'salesShare': '56.5', 'salesInten': '38915180', 'salesChange': '2', 'salesAcc': '16579286530', 'audiCnt': '196676', 'audiInten': '4045', 'audiChange': '2.1', 'audiAcc': '1712392', 'scrnCnt': '1639', 'showCnt': '6757'}, {'rnum': '2', 'rank': '2', 'rankInten': '0', 'rankOldAndNew': 'OLD', 'movieCd': '20217845', 'movieNm': '더 수어사이드 스쿼드', 'openDt': '2021-08-04', 'salesAmt': '676897240', 'salesShare': '19.1', 'salesInten': '-127399190', 'salesChange': '-15.8', 'salesAcc': '2942362950', 'audiCnt': '63101', 'audiInten': '-12191', 'audiChange': '-16.2', 'audiAcc': '281384', 'scrnCnt': '1033', 'showCnt': '3307'}, {'rnum': '3', 'rank': '3', 'rankInten': '0', 'rankOldAndNew': 'OLD', 'movieCd': '20218391', 'movieNm': '보스 베이비 2', 'openDt': '2021-07-21', 'salesAmt': '284206020', 'salesShare': '8.0', 'salesInten': '1506480', 'salesChange': '0.5', 'salesAcc': '7511441580', 'audiCnt': '30046', 'audiInten': '108', 'audiChange': '0.4', 'audiAcc': '836809', 'scrnCnt': '777', 'showCnt': '1654'}, {'rnum': '4', 'rank': '4', 'rankInten': '0', 'rankOldAndNew': 'OLD', 'movieCd': '20191951', 'movieNm': '블랙 위도우', 'openDt': '2021-07-07', 'salesAmt': '194489780', 'salesShare': '5.5', 'salesInten': '-28197330', 'salesChange': '-12.7', 'salesAcc': '29457376370', 'audiCnt': '18740', 'audiInten': '-2673', 'audiChange': '-12.5', 'audiAcc': '2908684', 'scrnCnt': '540', 'showCnt': '924'}, {'rnum': '5', 'rank': '5', 'rankInten': '0', 'rankOldAndNew': 'OLD', 'movieCd': '20218875', 'movieNm': '극장판 도라에몽: 진구의 신공룡', 'openDt': '2021-08-05', 'salesAmt': '88917620', 'salesShare': '2.5', 'salesInten': '-4415810', 'salesChange': '-4.7', 'salesAcc': '337195080', 'audiCnt': '9837', 'audiInten': '-612', 'audiChange': '-5.9', 'audiAcc': '38669', 'scrnCnt': '502', 'showCnt': '781'}, {'rnum': '6', 'rank': '6', 'rankInten': '0', 'rankOldAndNew': 'OLD', 'movieCd': '20218349', 'movieNm': '정글 크루즈', 'openDt': '2021-07-28', 'salesAmt': '96743850', 'salesShare': '2.7', 'salesInten': '-429630', 'salesChange': '-0.4', 'salesAcc': '2200169790', 'audiCnt': '9825', 'audiInten': '-41', 'audiChange': '-0.4', 'audiAcc': '237891', 'scrnCnt': '502', 'showCnt': '704'}, {'rnum': '7', 'rank': '7', 'rankInten': '0', 'rankOldAndNew': 'OLD', 'movieCd': '20202185', 'movieNm': '방법: 재차의', 'openDt': '2021-07-28', 'salesAmt': '52498390', 'salesShare': '1.5', 'salesInten': '-291180', 'salesChange': '-0.6', 'salesAcc': '1476778330', 'audiCnt': '5122', 'audiInten': '-36', 'audiChange': '-0.7', 'audiAcc': '166005', 'scrnCnt': '351', 'showCnt': '427'}, {'rnum': '8', 'rank': '8', 'rankInten': '3', 'rankOldAndNew': 'OLD', 'movieCd': '20218815', 'movieNm': '블랙핑크 더 무비', 'openDt': '2021-08-04', 'salesAmt': '41201000', 'salesShare': '1.2', 'salesInten': '24823500', 'salesChange': '151.6', 'salesAcc': '154036500', 'audiCnt': '3081', 'audiInten': '1821', 'audiChange': '144.5', 'audiAcc': '11761', 'scrnCnt': '147', 'showCnt': '194'}, {'rnum': '9', 'rank': '9', 'rankInten': '-1', 'rankOldAndNew': 'OLD', 'movieCd': '20218834', 'movieNm': '그린 나이트', 'openDt': '2021-08-05', 'salesAmt': '18374790', 'salesShare': '0.5', 'salesInten': '-6747620', 'salesChange': '-26.9', 'salesAcc': '100288010', 'audiCnt': '1853', 'audiInten': '-612', 'audiChange': '-24.8', 'audiAcc': '10902', 'scrnCnt': '201', 'showCnt': '234'}, {'rnum': '10', 'rank': '10', 'rankInten': '-1', 'rankOldAndNew': 'OLD', 'movieCd': '20218364', 'movieNm': '랑종', 'openDt': '2021-07-14', 'salesAmt': '16745020', 'salesShare': '0.5', 'salesInten': '-3988320', 'salesChange': '-19.2', 'salesAcc': '8586758770', 'audiCnt': '1508', 'audiInten': '-379', 'audiChange': '-20.1', 'audiAcc': '827675', 'scrnCnt': '76', 'showCnt': '105'}]}}\n"
     ]
    }
   ],
   "source": [
    "import requests\n",
    "import json\n",
    "import pandas as pd\n",
    "from pandas import DataFrame\n",
    "\n",
    "date = input()\n",
    "date_list_url = 'http://kobis.or.kr/kobisopenapi/webservice/rest/boxoffice/searchDailyBoxOfficeList.json?key=f5eef3421c602c6cb7ea224104795888&targetDt='+date\n",
    "res = requests.get(date_list_url)\n",
    "text = res.text\n",
    "\n",
    "d = json.loads(text)\n",
    "print(d)"
   ]
  },
  {
   "cell_type": "code",
   "execution_count": 6,
   "metadata": {},
   "outputs": [
    {
     "data": {
      "text/html": [
       "<div>\n",
       "<style scoped>\n",
       "    .dataframe tbody tr th:only-of-type {\n",
       "        vertical-align: middle;\n",
       "    }\n",
       "\n",
       "    .dataframe tbody tr th {\n",
       "        vertical-align: top;\n",
       "    }\n",
       "\n",
       "    .dataframe thead th {\n",
       "        text-align: right;\n",
       "    }\n",
       "</style>\n",
       "<table border=\"1\" class=\"dataframe\">\n",
       "  <thead>\n",
       "    <tr style=\"text-align: right;\">\n",
       "      <th></th>\n",
       "      <th>영화 순위</th>\n",
       "      <th>영화 제목</th>\n",
       "      <th>개봉일</th>\n",
       "      <th>누적 관객수</th>\n",
       "    </tr>\n",
       "  </thead>\n",
       "  <tbody>\n",
       "    <tr>\n",
       "      <th>0</th>\n",
       "      <td>1</td>\n",
       "      <td>모가디슈</td>\n",
       "      <td>2021-07-28</td>\n",
       "      <td>1712392</td>\n",
       "    </tr>\n",
       "    <tr>\n",
       "      <th>1</th>\n",
       "      <td>2</td>\n",
       "      <td>더 수어사이드 스쿼드</td>\n",
       "      <td>2021-08-04</td>\n",
       "      <td>281384</td>\n",
       "    </tr>\n",
       "    <tr>\n",
       "      <th>2</th>\n",
       "      <td>3</td>\n",
       "      <td>보스 베이비 2</td>\n",
       "      <td>2021-07-21</td>\n",
       "      <td>836809</td>\n",
       "    </tr>\n",
       "    <tr>\n",
       "      <th>3</th>\n",
       "      <td>4</td>\n",
       "      <td>블랙 위도우</td>\n",
       "      <td>2021-07-07</td>\n",
       "      <td>2908684</td>\n",
       "    </tr>\n",
       "    <tr>\n",
       "      <th>4</th>\n",
       "      <td>5</td>\n",
       "      <td>극장판 도라에몽: 진구의 신공룡</td>\n",
       "      <td>2021-08-05</td>\n",
       "      <td>38669</td>\n",
       "    </tr>\n",
       "    <tr>\n",
       "      <th>5</th>\n",
       "      <td>6</td>\n",
       "      <td>정글 크루즈</td>\n",
       "      <td>2021-07-28</td>\n",
       "      <td>237891</td>\n",
       "    </tr>\n",
       "    <tr>\n",
       "      <th>6</th>\n",
       "      <td>7</td>\n",
       "      <td>방법: 재차의</td>\n",
       "      <td>2021-07-28</td>\n",
       "      <td>166005</td>\n",
       "    </tr>\n",
       "    <tr>\n",
       "      <th>7</th>\n",
       "      <td>8</td>\n",
       "      <td>블랙핑크 더 무비</td>\n",
       "      <td>2021-08-04</td>\n",
       "      <td>11761</td>\n",
       "    </tr>\n",
       "    <tr>\n",
       "      <th>8</th>\n",
       "      <td>9</td>\n",
       "      <td>그린 나이트</td>\n",
       "      <td>2021-08-05</td>\n",
       "      <td>10902</td>\n",
       "    </tr>\n",
       "    <tr>\n",
       "      <th>9</th>\n",
       "      <td>10</td>\n",
       "      <td>랑종</td>\n",
       "      <td>2021-07-14</td>\n",
       "      <td>827675</td>\n",
       "    </tr>\n",
       "  </tbody>\n",
       "</table>\n",
       "</div>"
      ],
      "text/plain": [
       "  영화 순위              영화 제목         개봉일   누적 관객수\n",
       "0     1               모가디슈  2021-07-28  1712392\n",
       "1     2        더 수어사이드 스쿼드  2021-08-04   281384\n",
       "2     3           보스 베이비 2  2021-07-21   836809\n",
       "3     4             블랙 위도우  2021-07-07  2908684\n",
       "4     5  극장판 도라에몽: 진구의 신공룡  2021-08-05    38669\n",
       "5     6             정글 크루즈  2021-07-28   237891\n",
       "6     7            방법: 재차의  2021-07-28   166005\n",
       "7     8          블랙핑크 더 무비  2021-08-04    11761\n",
       "8     9             그린 나이트  2021-08-05    10902\n",
       "9    10                 랑종  2021-07-14   827675"
      ]
     },
     "execution_count": 6,
     "metadata": {},
     "output_type": "execute_result"
    }
   ],
   "source": [
    "movie_list = []\n",
    "\n",
    "for b in d['boxOfficeResult']['dailyBoxOfficeList']:\n",
    "    movie_list.append([b['rank'],b['movieNm'],b['openDt'],b['audiAcc']])  \n",
    "\n",
    "data = pd.DataFrame(movie_list)\n",
    "data.columns = ['영화 순위', '영화 제목', '개봉일', '누적 관객수']\n",
    "data"
   ]
  },
  {
   "cell_type": "code",
   "execution_count": null,
   "metadata": {},
   "outputs": [],
   "source": []
  }
 ],
 "metadata": {
  "kernelspec": {
   "display_name": "Python 3",
   "language": "python",
   "name": "python3"
  },
  "language_info": {
   "codemirror_mode": {
    "name": "ipython",
    "version": 3
   },
   "file_extension": ".py",
   "mimetype": "text/x-python",
   "name": "python",
   "nbconvert_exporter": "python",
   "pygments_lexer": "ipython3",
   "version": "3.8.5"
  }
 },
 "nbformat": 4,
 "nbformat_minor": 4
}
