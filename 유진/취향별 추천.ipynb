{
 "cells": [
  {
   "cell_type": "markdown",
   "metadata": {},
   "source": [
    "## 영화 5개 받기"
   ]
  },
  {
   "cell_type": "code",
   "execution_count": 24,
   "metadata": {
    "scrolled": true
   },
   "outputs": [
    {
     "name": "stdout",
     "output_type": "stream",
     "text": [
      "좋아하는 영화 5개를 입력해주세요(구분은 ,로): \n",
      "명량, 기생충, 극한직업, 패신저스, 메이즈러너\n",
      "['명량', ' 기생충', ' 극한직업', ' 패신저스', ' 메이즈러너']\n"
     ]
    }
   ],
   "source": [
    "print(\"좋아하는 영화 5개를 입력해주세요(구분은 ,로): \")\n",
    "movie_list = input().split(\",\")\n",
    "print(movie_list)"
   ]
  },
  {
   "cell_type": "markdown",
   "metadata": {},
   "source": [
    "## 영화 정보"
   ]
  },
  {
   "cell_type": "code",
   "execution_count": 25,
   "metadata": {},
   "outputs": [],
   "source": [
    "import requests\n",
    "import json"
   ]
  },
  {
   "cell_type": "code",
   "execution_count": 26,
   "metadata": {},
   "outputs": [
    {
     "name": "stdout",
     "output_type": "stream",
     "text": [
      "명량의 개봉연도를 입력하세요: 2014\n",
      " 기생충의 개봉연도를 입력하세요: 2019\n",
      " 극한직업의 개봉연도를 입력하세요: 2019\n",
      " 패신저스의 개봉연도를 입력하세요: 2017\n",
      " 메이즈러너의 개봉연도를 입력하세요: 2014\n",
      "[['20129370', '명량', '사극,액션', '2014'], ['20183782', '기생충', '드라마', '2019'], ['20198543', '파라노말 기생충', '멜로/로맨스', '2019'], ['20182530', '극한직업', '코미디', '2019'], ['20161084', '패신저스', '어드벤처,SF', '2017'], ['20140431', '메이즈 러너', '액션,미스터리,SF,스릴러', '2014']]\n",
      "['명량', '기생충', '파라노말 기생충', '극한직업', '패신저스', '메이즈 러너']\n"
     ]
    }
   ],
   "source": [
    "movie_cd_list = []\n",
    "director_list = []\n",
    "selected_movie_list = []\n",
    "\n",
    "for movie in movie_list:\n",
    "    movie_cd_url = 'https://www.kobis.or.kr/kobisopenapi/webservice/rest/movie/searchMovieList.json?key=e3a5ce5b387559b21c721bb76a8024a1&movieNm='+movie\n",
    "    res = requests.get(movie_cd_url)\n",
    "    text = res.text\n",
    "    d = json.loads(text)\n",
    "    if d['movieListResult']['totCnt'] > 1:    # 동명의 영화가 있을 경우\n",
    "        item_year = input(movie+\"의 개봉연도를 입력하세요: \")   # 개봉연도로 구분\n",
    "        for item in d['movieListResult']['movieList']:\n",
    "            if item_year == item['openDt'][:4]:\n",
    "                # director_list = director['peopleNm']\n",
    "                movie_cd_list.append([item['movieCd'],\n",
    "                                      item['movieNm'],\n",
    "                                      item['genreAlt'],\n",
    "                                      item['openDt'][:4]])\n",
    "                selected_movie_list.append(item['movieNm'])\n",
    "    if d['movieListResult']['totCnt'] == 1:\n",
    "        for item in d['movieListResult']['movieList']:\n",
    "            movie_cd_list.append([item['movieCd'],\n",
    "                                  item['movieNm'],\n",
    "                                  item['genreAlt'],\n",
    "                                  item['openDt'][:4]])\n",
    "            selected_movie_list.append(item['movieNm'])\n",
    "\n",
    "print(movie_cd_list)\n",
    "print(selected_movie_list)"
   ]
  },
  {
   "cell_type": "code",
   "execution_count": 27,
   "metadata": {},
   "outputs": [
    {
     "data": {
      "text/html": [
       "<div>\n",
       "<style scoped>\n",
       "    .dataframe tbody tr th:only-of-type {\n",
       "        vertical-align: middle;\n",
       "    }\n",
       "\n",
       "    .dataframe tbody tr th {\n",
       "        vertical-align: top;\n",
       "    }\n",
       "\n",
       "    .dataframe thead th {\n",
       "        text-align: right;\n",
       "    }\n",
       "</style>\n",
       "<table border=\"1\" class=\"dataframe\">\n",
       "  <thead>\n",
       "    <tr style=\"text-align: right;\">\n",
       "      <th></th>\n",
       "      <th>movieCd</th>\n",
       "      <th>movieNm</th>\n",
       "      <th>genreAlt</th>\n",
       "      <th>openYr</th>\n",
       "    </tr>\n",
       "  </thead>\n",
       "  <tbody>\n",
       "    <tr>\n",
       "      <th>0</th>\n",
       "      <td>20129370</td>\n",
       "      <td>명량</td>\n",
       "      <td>사극,액션</td>\n",
       "      <td>2014</td>\n",
       "    </tr>\n",
       "    <tr>\n",
       "      <th>1</th>\n",
       "      <td>20183782</td>\n",
       "      <td>기생충</td>\n",
       "      <td>드라마</td>\n",
       "      <td>2019</td>\n",
       "    </tr>\n",
       "    <tr>\n",
       "      <th>2</th>\n",
       "      <td>20198543</td>\n",
       "      <td>파라노말 기생충</td>\n",
       "      <td>멜로/로맨스</td>\n",
       "      <td>2019</td>\n",
       "    </tr>\n",
       "    <tr>\n",
       "      <th>3</th>\n",
       "      <td>20182530</td>\n",
       "      <td>극한직업</td>\n",
       "      <td>코미디</td>\n",
       "      <td>2019</td>\n",
       "    </tr>\n",
       "    <tr>\n",
       "      <th>4</th>\n",
       "      <td>20161084</td>\n",
       "      <td>패신저스</td>\n",
       "      <td>어드벤처,SF</td>\n",
       "      <td>2017</td>\n",
       "    </tr>\n",
       "    <tr>\n",
       "      <th>5</th>\n",
       "      <td>20140431</td>\n",
       "      <td>메이즈 러너</td>\n",
       "      <td>액션,미스터리,SF,스릴러</td>\n",
       "      <td>2014</td>\n",
       "    </tr>\n",
       "  </tbody>\n",
       "</table>\n",
       "</div>"
      ],
      "text/plain": [
       "    movieCd   movieNm        genreAlt openYr\n",
       "0  20129370        명량           사극,액션   2014\n",
       "1  20183782       기생충             드라마   2019\n",
       "2  20198543  파라노말 기생충          멜로/로맨스   2019\n",
       "3  20182530      극한직업             코미디   2019\n",
       "4  20161084      패신저스         어드벤처,SF   2017\n",
       "5  20140431    메이즈 러너  액션,미스터리,SF,스릴러   2014"
      ]
     },
     "execution_count": 27,
     "metadata": {},
     "output_type": "execute_result"
    }
   ],
   "source": [
    "import pandas as pd\n",
    "\n",
    "movie_cdlist_df = pd.DataFrame(movie_cd_list)\n",
    "movie_cdlist_df.columns = ['movieCd', 'movieNm','genreAlt', 'openYr']\n",
    "movie_cdlist_df"
   ]
  },
  {
   "cell_type": "markdown",
   "metadata": {},
   "source": [
    "## 영화코드로 정보 추출"
   ]
  },
  {
   "cell_type": "code",
   "execution_count": 28,
   "metadata": {},
   "outputs": [
    {
     "name": "stdout",
     "output_type": "stream",
     "text": [
      "['김한민', '봉준호', '나츠메 타이치로', '이병헌', '모튼 틸덤', '웨스 볼']\n",
      "['최민식', '류승룡', '조진웅', '김명곤', '진구', '이정현', '권율', '노민우', '이승준', '오타니 료헤이', '송강호', '이선균', '조여정', '최우식', '박소담', '이정은', '장혜진', '박명훈', '정지소', '정현준', '류승룡', '이하늬', '진선규', '이동휘', '공명', '양현민', '장진희', '한준우', '김명준', '나철', '크리스 프랫', '제니퍼 로렌스', '마이클 쉰', '앤디 가르시아', '로렌스 피쉬번', '딜런 오브라이언', '카야 스코델라리오', '윌 폴터', '토마스 생스터', '이기홍']\n",
      "['최민식', '류승룡', '조진웅', '송강호', '이선균', '조여정', '류승룡', '이하늬', '진선규', '크리스 프랫', '제니퍼 로렌스', '마이클 쉰', '딜런 오브라이언', '카야 스코델라리오', '윌 폴터']\n",
      "['사극', '액션', '드라마', '멜로/로맨스', '코미디', '어드벤처', 'SF', '액션', '미스터리', 'SF', '스릴러']\n"
     ]
    }
   ],
   "source": [
    "movie_detail_list = []\n",
    "movie_director_list = []\n",
    "movie_cast_list = []    # 한 영화당 최대 10명의 배우를 추출하여 저장한 리스트\n",
    "direct_list = []\n",
    "movie_mainactor_list = []    # 한 영화당 최대 2명(주인공)의 배우를 추출하여 저장한 리스트\n",
    "movie_genre_list = [] \n",
    "\n",
    "actor_list = []              # 5개 영화의 movie_cast_list을 모은 것\n",
    "mainactor_list = []          # 5개 영화의 movie_mainactor_list을 모은 것\n",
    "genre_list = []              # 5개 영화의 장르를 모은 것\n",
    "\n",
    "movie_actor_list = [[] for i in range(0,5)]\n",
    "movie_direc_list = [[] for i in range(0,5)]\n",
    "j=0\n",
    "\n",
    "for movieCd in movie_cdlist_df['movieCd']:\n",
    "    movie_director_list.clear()\n",
    "    movie_cast_list.clear()\n",
    "    movie_mainactor_list.clear()\n",
    "    movie_genre_list.clear()\n",
    "    actor_list_url = 'https://www.kobis.or.kr/kobisopenapi/webservice/rest/movie/searchMovieInfo.json?key=e3a5ce5b387559b21c721bb76a8024a1&movieCd='+movieCd\n",
    "    res = requests.get(actor_list_url)\n",
    "    text = res.text\n",
    "    d = json.loads(text)\n",
    "\n",
    "    for direc in d['movieInfoResult']['movieInfo']['directors']:\n",
    "        movie_director_list.append(direc['peopleNm'])\n",
    "        direct_list+=movie_director_list\n",
    "\n",
    "    for cast in d['movieInfoResult']['movieInfo']['actors']:\n",
    "        if len(movie_mainactor_list) < 3:\n",
    "            movie_mainactor_list.append(cast['peopleNm'])\n",
    "        if len(movie_cast_list) <= 9:\n",
    "            movie_cast_list.append(cast['peopleNm'])\n",
    "            \n",
    "    for genr in d['movieInfoResult']['movieInfo']['genres']:\n",
    "        movie_genre_list.append(genr['genreNm'])\n",
    "  \n",
    "    #print(movie_cast_list)\n",
    "    actor_list += movie_cast_list\n",
    "    mainactor_list += movie_mainactor_list\n",
    "    genre_list += movie_genre_list\n",
    "\n",
    "    j+=1\n",
    "\n",
    "print(direct_list)\n",
    "print(actor_list)\n",
    "print(mainactor_list)\n",
    "print(genre_list)"
   ]
  },
  {
   "cell_type": "markdown",
   "metadata": {},
   "source": [
    "## 배우 등장 횟수"
   ]
  },
  {
   "cell_type": "code",
   "execution_count": 29,
   "metadata": {},
   "outputs": [
    {
     "data": {
      "text/plain": [
       "{'최민식': 1,\n",
       " '류승룡': 2,\n",
       " '조진웅': 1,\n",
       " '김명곤': 1,\n",
       " '진구': 1,\n",
       " '이정현': 1,\n",
       " '권율': 1,\n",
       " '노민우': 1,\n",
       " '이승준': 1,\n",
       " '오타니 료헤이': 1,\n",
       " '송강호': 1,\n",
       " '이선균': 1,\n",
       " '조여정': 1,\n",
       " '최우식': 1,\n",
       " '박소담': 1,\n",
       " '이정은': 1,\n",
       " '장혜진': 1,\n",
       " '박명훈': 1,\n",
       " '정지소': 1,\n",
       " '정현준': 1,\n",
       " '이하늬': 1,\n",
       " '진선규': 1,\n",
       " '이동휘': 1,\n",
       " '공명': 1,\n",
       " '양현민': 1,\n",
       " '장진희': 1,\n",
       " '한준우': 1,\n",
       " '김명준': 1,\n",
       " '나철': 1,\n",
       " '크리스 프랫': 1,\n",
       " '제니퍼 로렌스': 1,\n",
       " '마이클 쉰': 1,\n",
       " '앤디 가르시아': 1,\n",
       " '로렌스 피쉬번': 1,\n",
       " '딜런 오브라이언': 1,\n",
       " '카야 스코델라리오': 1,\n",
       " '윌 폴터': 1,\n",
       " '토마스 생스터': 1,\n",
       " '이기홍': 1}"
      ]
     },
     "execution_count": 29,
     "metadata": {},
     "output_type": "execute_result"
    }
   ],
   "source": [
    "actor_dict = dict()\n",
    "for i in actor_list:\n",
    "    if i not in actor_dict:\n",
    "        actor_dict[i]=1\n",
    "    else:\n",
    "        actor_dict[i]=actor_dict[i]+1\n",
    "\n",
    "actor_dict"
   ]
  },
  {
   "cell_type": "markdown",
   "metadata": {},
   "source": [
    "## 주연배우(맨 앞 3사람)"
   ]
  },
  {
   "cell_type": "code",
   "execution_count": 30,
   "metadata": {},
   "outputs": [
    {
     "data": {
      "text/plain": [
       "{'최민식': 1,\n",
       " '류승룡': 2,\n",
       " '조진웅': 1,\n",
       " '송강호': 1,\n",
       " '이선균': 1,\n",
       " '조여정': 1,\n",
       " '이하늬': 1,\n",
       " '진선규': 1,\n",
       " '크리스 프랫': 1,\n",
       " '제니퍼 로렌스': 1,\n",
       " '마이클 쉰': 1,\n",
       " '딜런 오브라이언': 1,\n",
       " '카야 스코델라리오': 1,\n",
       " '윌 폴터': 1}"
      ]
     },
     "execution_count": 30,
     "metadata": {},
     "output_type": "execute_result"
    }
   ],
   "source": [
    "mainactor_dict = dict()\n",
    "for i in mainactor_list:\n",
    "    if i not in mainactor_dict:\n",
    "        mainactor_dict[i]=1\n",
    "    else:\n",
    "        mainactor_dict[i]=mainactor_dict[i]+1\n",
    "\n",
    "mainactor_dict"
   ]
  },
  {
   "cell_type": "markdown",
   "metadata": {},
   "source": [
    "## 추천배우 5명"
   ]
  },
  {
   "cell_type": "markdown",
   "metadata": {},
   "source": [
    "- 2번 등장 배우 우선\n",
    "- 빈자리는 랜덤"
   ]
  },
  {
   "cell_type": "code",
   "execution_count": 31,
   "metadata": {},
   "outputs": [
    {
     "data": {
      "text/plain": [
       "['류승룡', '딜런 오브라이언', '제니퍼 로렌스', '조여정', '카야 스코델라리오']"
      ]
     },
     "execution_count": 31,
     "metadata": {},
     "output_type": "execute_result"
    }
   ],
   "source": [
    "import random\n",
    "\n",
    "prefer_actor_list = []\n",
    "for key, value in actor_dict.items():\n",
    "    if value > 1:\n",
    "        prefer_actor_list.append(key)\n",
    "if len(prefer_actor_list)!=5:\n",
    "    while True:\n",
    "        actor = random.choice(mainactor_list)\n",
    "        if actor not in prefer_actor_list:\n",
    "            prefer_actor_list.append(actor)\n",
    "        if len(prefer_actor_list)==5:\n",
    "            break\n",
    "\n",
    "prefer_actor_list"
   ]
  },
  {
   "cell_type": "markdown",
   "metadata": {},
   "source": [
    "## 배우 추천 코드"
   ]
  },
  {
   "cell_type": "code",
   "execution_count": 32,
   "metadata": {},
   "outputs": [],
   "source": [
    "actor_code = []\n",
    "filmo_list = []\n",
    "final_filmo_list = []\n",
    "\n",
    "for prefer_actor in prefer_actor_list:\n",
    "    actor_list_url = 'http://kobis.or.kr/kobisopenapi/webservice/rest/people/searchPeopleList.json?key=e3a5ce5b387559b21c721bb76a8024a1'+'&peopleNm='+prefer_actor\n",
    "    res = requests.get(actor_list_url)\n",
    "    text = res.text\n",
    "    d = json.loads(text)\n",
    "\n",
    "    for actor in d['peopleListResult']['peopleList']:\n",
    "        final_filmo_list.clear()\n",
    "        if actor['repRoleNm'] == '배우' and actor['peopleNmEn'] != \"\":\n",
    "            filmo_list = actor['filmoNames'].split(\"|\")\n",
    "            for filmo in filmo_list:\n",
    "                if filmo not in selected_movie_list:\n",
    "                    final_filmo_list.append(filmo)\n",
    "            actor_code.append([actor['peopleCd'], actor['peopleNm'],actor['peopleNmEn'], actor['repRoleNm'], final_filmo_list[:5]])"
   ]
  },
  {
   "cell_type": "code",
   "execution_count": 33,
   "metadata": {},
   "outputs": [
    {
     "name": "stdout",
     "output_type": "stream",
     "text": [
      "['명량', '기생충', '파라노말 기생충', '극한직업', '패신저스', '메이즈 러너']\n",
      "['크롤', '메이즈 러너: 데스 큐어', '캐리비안의 해적: 죽은 자는 말이 없다', '메이즈 러너: 스코치 트라이얼', '트루스 어바웃 엠마누엘', '메이즈 러너', '나우이즈굿 ', '폭풍의 언덕']\n",
      "['크롤', '메이즈 러너: 데스 큐어', '캐리비안의 해적: 죽은 자는 말이 없다', '메이즈 러너: 스코치 트라이얼', '트루스 어바웃 엠마누엘', '나우이즈굿 ', '폭풍의 언덕']\n"
     ]
    }
   ],
   "source": [
    "print(selected_movie_list)\n",
    "print(filmo_list)\n",
    "print(final_filmo_list)"
   ]
  },
  {
   "cell_type": "code",
   "execution_count": 34,
   "metadata": {},
   "outputs": [
    {
     "data": {
      "text/html": [
       "<div>\n",
       "<style scoped>\n",
       "    .dataframe tbody tr th:only-of-type {\n",
       "        vertical-align: middle;\n",
       "    }\n",
       "\n",
       "    .dataframe tbody tr th {\n",
       "        vertical-align: top;\n",
       "    }\n",
       "\n",
       "    .dataframe thead th {\n",
       "        text-align: right;\n",
       "    }\n",
       "</style>\n",
       "<table border=\"1\" class=\"dataframe\">\n",
       "  <thead>\n",
       "    <tr style=\"text-align: right;\">\n",
       "      <th></th>\n",
       "      <th>peopleCd</th>\n",
       "      <th>peopleNm</th>\n",
       "      <th>peopleNmEn</th>\n",
       "      <th>repRoleNm</th>\n",
       "      <th>filmoNames</th>\n",
       "    </tr>\n",
       "  </thead>\n",
       "  <tbody>\n",
       "    <tr>\n",
       "      <th>0</th>\n",
       "      <td>10019065</td>\n",
       "      <td>류승룡</td>\n",
       "      <td>RYU Seung-ryong</td>\n",
       "      <td>배우</td>\n",
       "      <td>[비광, 정가네 목장(가제), 입술은 안돼요(가제), 자산어보, 인생은 아름다워]</td>\n",
       "    </tr>\n",
       "    <tr>\n",
       "      <th>1</th>\n",
       "      <td>10019472</td>\n",
       "      <td>딜런 오브라이언</td>\n",
       "      <td>Dylan O'Brien</td>\n",
       "      <td>배우</td>\n",
       "      <td>[플래시백, 메이즈 러너: 데스 큐어, 어쌔신: 더 비기닝, 딥워터 호라이즌, 메이...</td>\n",
       "    </tr>\n",
       "    <tr>\n",
       "      <th>2</th>\n",
       "      <td>10062627</td>\n",
       "      <td>제니퍼 로렌스</td>\n",
       "      <td>Jennifer Lawrence</td>\n",
       "      <td>배우</td>\n",
       "      <td>[엑스맨: 다크 피닉스, 레드 스패로, 마더!, 엑스맨: 아포칼립스, 조이]</td>\n",
       "    </tr>\n",
       "    <tr>\n",
       "      <th>3</th>\n",
       "      <td>10066680</td>\n",
       "      <td>조여정</td>\n",
       "      <td>CHO Yeo-jeong</td>\n",
       "      <td>배우</td>\n",
       "      <td>[워킹걸, 인간중독, 표적, 후궁 : 제왕의 첩, 방자전]</td>\n",
       "    </tr>\n",
       "    <tr>\n",
       "      <th>4</th>\n",
       "      <td>10073877</td>\n",
       "      <td>카야 스코델라리오</td>\n",
       "      <td>Kaya Scodelario</td>\n",
       "      <td>배우</td>\n",
       "      <td>[크롤, 메이즈 러너: 데스 큐어, 캐리비안의 해적: 죽은 자는 말이 없다, 메이즈...</td>\n",
       "    </tr>\n",
       "  </tbody>\n",
       "</table>\n",
       "</div>"
      ],
      "text/plain": [
       "   peopleCd   peopleNm         peopleNmEn repRoleNm  \\\n",
       "0  10019065        류승룡    RYU Seung-ryong        배우   \n",
       "1  10019472   딜런 오브라이언      Dylan O'Brien        배우   \n",
       "2  10062627    제니퍼 로렌스  Jennifer Lawrence        배우   \n",
       "3  10066680        조여정      CHO Yeo-jeong        배우   \n",
       "4  10073877  카야 스코델라리오    Kaya Scodelario        배우   \n",
       "\n",
       "                                          filmoNames  \n",
       "0      [비광, 정가네 목장(가제), 입술은 안돼요(가제), 자산어보, 인생은 아름다워]  \n",
       "1  [플래시백, 메이즈 러너: 데스 큐어, 어쌔신: 더 비기닝, 딥워터 호라이즌, 메이...  \n",
       "2         [엑스맨: 다크 피닉스, 레드 스패로, 마더!, 엑스맨: 아포칼립스, 조이]  \n",
       "3                   [워킹걸, 인간중독, 표적, 후궁 : 제왕의 첩, 방자전]  \n",
       "4  [크롤, 메이즈 러너: 데스 큐어, 캐리비안의 해적: 죽은 자는 말이 없다, 메이즈...  "
      ]
     },
     "execution_count": 34,
     "metadata": {},
     "output_type": "execute_result"
    }
   ],
   "source": [
    "actor_code_df = pd.DataFrame(actor_code)\n",
    "actor_code_df.columns = ['peopleCd','peopleNm','peopleNmEn','repRoleNm', 'filmoNames']\n",
    "actor_code_df"
   ]
  },
  {
   "cell_type": "markdown",
   "metadata": {},
   "source": [
    "## 장르 등장 횟수 "
   ]
  },
  {
   "cell_type": "code",
   "execution_count": 35,
   "metadata": {},
   "outputs": [
    {
     "data": {
      "text/plain": [
       "{'사극': 1,\n",
       " '액션': 2,\n",
       " '드라마': 1,\n",
       " '멜로/로맨스': 1,\n",
       " '코미디': 1,\n",
       " '어드벤처': 1,\n",
       " 'SF': 2,\n",
       " '미스터리': 1,\n",
       " '스릴러': 1}"
      ]
     },
     "execution_count": 35,
     "metadata": {},
     "output_type": "execute_result"
    }
   ],
   "source": [
    "genre_dict = dict()\n",
    "for i in genre_list:\n",
    "    if i not in genre_dict:\n",
    "        genre_dict[i]=1\n",
    "    else:\n",
    "        genre_dict[i]=genre_dict[i]+1\n",
    "\n",
    "genre_dict"
   ]
  },
  {
   "cell_type": "code",
   "execution_count": 36,
   "metadata": {},
   "outputs": [
    {
     "data": {
      "text/html": [
       "<div>\n",
       "<style scoped>\n",
       "    .dataframe tbody tr th:only-of-type {\n",
       "        vertical-align: middle;\n",
       "    }\n",
       "\n",
       "    .dataframe tbody tr th {\n",
       "        vertical-align: top;\n",
       "    }\n",
       "\n",
       "    .dataframe thead th {\n",
       "        text-align: right;\n",
       "    }\n",
       "</style>\n",
       "<table border=\"1\" class=\"dataframe\">\n",
       "  <thead>\n",
       "    <tr style=\"text-align: right;\">\n",
       "      <th></th>\n",
       "      <th>genres</th>\n",
       "      <th>number</th>\n",
       "    </tr>\n",
       "  </thead>\n",
       "  <tbody>\n",
       "    <tr>\n",
       "      <th>0</th>\n",
       "      <td>사극</td>\n",
       "      <td>1</td>\n",
       "    </tr>\n",
       "    <tr>\n",
       "      <th>1</th>\n",
       "      <td>액션</td>\n",
       "      <td>2</td>\n",
       "    </tr>\n",
       "    <tr>\n",
       "      <th>2</th>\n",
       "      <td>드라마</td>\n",
       "      <td>1</td>\n",
       "    </tr>\n",
       "    <tr>\n",
       "      <th>3</th>\n",
       "      <td>멜로/로맨스</td>\n",
       "      <td>1</td>\n",
       "    </tr>\n",
       "    <tr>\n",
       "      <th>4</th>\n",
       "      <td>코미디</td>\n",
       "      <td>1</td>\n",
       "    </tr>\n",
       "    <tr>\n",
       "      <th>5</th>\n",
       "      <td>어드벤처</td>\n",
       "      <td>1</td>\n",
       "    </tr>\n",
       "    <tr>\n",
       "      <th>6</th>\n",
       "      <td>SF</td>\n",
       "      <td>2</td>\n",
       "    </tr>\n",
       "    <tr>\n",
       "      <th>7</th>\n",
       "      <td>미스터리</td>\n",
       "      <td>1</td>\n",
       "    </tr>\n",
       "    <tr>\n",
       "      <th>8</th>\n",
       "      <td>스릴러</td>\n",
       "      <td>1</td>\n",
       "    </tr>\n",
       "  </tbody>\n",
       "</table>\n",
       "</div>"
      ],
      "text/plain": [
       "   genres  number\n",
       "0      사극       1\n",
       "1      액션       2\n",
       "2     드라마       1\n",
       "3  멜로/로맨스       1\n",
       "4     코미디       1\n",
       "5    어드벤처       1\n",
       "6      SF       2\n",
       "7    미스터리       1\n",
       "8     스릴러       1"
      ]
     },
     "execution_count": 36,
     "metadata": {},
     "output_type": "execute_result"
    }
   ],
   "source": [
    "genre_df = pd.DataFrame(genre_dict.items())\n",
    "genre_df.columns=['genres', 'number']\n",
    "genre_df"
   ]
  },
  {
   "cell_type": "code",
   "execution_count": 37,
   "metadata": {},
   "outputs": [
    {
     "data": {
      "text/plain": [
       "array(['사극', '액션', '드라마', '멜로/로맨스', '코미디', '어드벤처', 'SF', '미스터리', '스릴러'],\n",
       "      dtype=object)"
      ]
     },
     "execution_count": 37,
     "metadata": {},
     "output_type": "execute_result"
    }
   ],
   "source": [
    "gen=dict()\n",
    "gen=genre_df['genres']\n",
    "gg=gen.values\n",
    "gg"
   ]
  },
  {
   "cell_type": "code",
   "execution_count": 38,
   "metadata": {},
   "outputs": [
    {
     "data": {
      "text/plain": [
       "1    액션\n",
       "6    SF\n",
       "Name: genres, dtype: object"
      ]
     },
     "execution_count": 38,
     "metadata": {},
     "output_type": "execute_result"
    }
   ],
   "source": [
    "recom_genre=[]\n",
    "recom_genre=genre_df[genre_df['number']>1]\n",
    "recom_genre_list=recom_genre['genres']\n",
    "recom_genre_list"
   ]
  },
  {
   "cell_type": "code",
   "execution_count": 39,
   "metadata": {},
   "outputs": [
    {
     "data": {
      "text/plain": [
       "array(['액션', 'SF'], dtype=object)"
      ]
     },
     "execution_count": 39,
     "metadata": {},
     "output_type": "execute_result"
    }
   ],
   "source": [
    "recom_genre_list=recom_genre_list.values\n",
    "recom_genre_list"
   ]
  },
  {
   "cell_type": "markdown",
   "metadata": {},
   "source": [
    "## 추려진 영화 장르 검색"
   ]
  },
  {
   "cell_type": "code",
   "execution_count": 40,
   "metadata": {},
   "outputs": [
    {
     "name": "stdout",
     "output_type": "stream",
     "text": [
      "[['메이즈 러너: 데스 큐어', '액션,SF,스릴러'], ['캐리비안의 해적: 죽은 자는 말이 없다', '액션,어드벤처,판타지,코미디'], ['메이즈 러너: 스코치 트라이얼', '액션,SF,스릴러'], ['트루스 어바웃 엠마누엘', '드라마,스릴러'], ['나우이즈굿 ', '드라마,멜로/로맨스'], ['크롤', '액션,스릴러'], ['폭풍의 언덕', '드라마,멜로/로맨스']]\n"
     ]
    }
   ],
   "source": [
    "genre_search=[]\n",
    "movieID=[]\n",
    "prdY=[]\n",
    "odt=[]\n",
    "movieN=[]\n",
    "moviepeople=[]\n",
    "\n",
    "for i in range(len(final_filmo_list)):\n",
    "    genre_search_url = 'http://kobis.or.kr/kobisopenapi/webservice/rest/movie/searchMovieList.json?key=e3a5ce5b387559b21c721bb76a8024a1'+'&movieNm='+final_filmo_list[i]\n",
    "    res = requests.get(genre_search_url)\n",
    "    text = res.text\n",
    "    d = json.loads(text)\n",
    "\n",
    "    if d['movieListResult']['totCnt'] > 1:\n",
    "        for item in d['movieListResult']['movieList']:\n",
    "            movieID.append(item['movieCd'])\n",
    "\n",
    "    if d['movieListResult']['totCnt'] == 1:        \n",
    "        for item in d['movieListResult']['movieList']:\n",
    "            genre_search.append([item['movieNm'], item['genreAlt']])\n",
    "            \n",
    "for i in range(len(movieID)):\n",
    "    id_search_url = 'http://www.kobis.or.kr/kobisopenapi/webservice/rest/movie/searchMovieInfo.json?key=e3a5ce5b387559b21c721bb76a8024a1'+'&movieCd='+movieID[i]\n",
    "    res = requests.get(id_search_url)\n",
    "    text = res.text\n",
    "    d = json.loads(text)\n",
    "    \n",
    "    dd=d['movieInfoResult']['movieInfo']\n",
    "    for item in d['movieInfoResult']['movieInfo']['actors']:\n",
    "        moviepeople=item['peopleNm']\n",
    "        if moviepeople in prefer_actor_list:\n",
    "            movieN.append(dd['movieNm'])\n",
    "            prdY.append(dd['prdtYear'])\n",
    "            odt.append(dd['openDt'])\n",
    "\n",
    "for i in range(len(movieN)):\n",
    "    duplit_url = 'http://kobis.or.kr/kobisopenapi/webservice/rest/movie/searchMovieList.json?key=e3a5ce5b387559b21c721bb76a8024a1'+'&movieNm='+movieN[i]\n",
    "    res = requests.get(duplit_url)\n",
    "    text = res.text\n",
    "    d = json.loads(text)\n",
    "    \n",
    "    for item in d['movieListResult']['movieList']:\n",
    "        if item['openDt']==odt[i]:\n",
    "            genre_search.append([item['movieNm'], item['genreAlt']])\n",
    "            break\n",
    "        if item['prdtYear']==prdY[i]:\n",
    "            genre_search.append([item['movieNm'], item['genreAlt']])\n",
    "\n",
    "print(genre_search)"
   ]
  },
  {
   "cell_type": "code",
   "execution_count": 41,
   "metadata": {},
   "outputs": [
    {
     "data": {
      "text/html": [
       "<div>\n",
       "<style scoped>\n",
       "    .dataframe tbody tr th:only-of-type {\n",
       "        vertical-align: middle;\n",
       "    }\n",
       "\n",
       "    .dataframe tbody tr th {\n",
       "        vertical-align: top;\n",
       "    }\n",
       "\n",
       "    .dataframe thead th {\n",
       "        text-align: right;\n",
       "    }\n",
       "</style>\n",
       "<table border=\"1\" class=\"dataframe\">\n",
       "  <thead>\n",
       "    <tr style=\"text-align: right;\">\n",
       "      <th></th>\n",
       "      <th>movieNm</th>\n",
       "      <th>genres</th>\n",
       "    </tr>\n",
       "  </thead>\n",
       "  <tbody>\n",
       "    <tr>\n",
       "      <th>0</th>\n",
       "      <td>메이즈 러너: 데스 큐어</td>\n",
       "      <td>액션,SF,스릴러</td>\n",
       "    </tr>\n",
       "    <tr>\n",
       "      <th>1</th>\n",
       "      <td>캐리비안의 해적: 죽은 자는 말이 없다</td>\n",
       "      <td>액션,어드벤처,판타지,코미디</td>\n",
       "    </tr>\n",
       "    <tr>\n",
       "      <th>2</th>\n",
       "      <td>메이즈 러너: 스코치 트라이얼</td>\n",
       "      <td>액션,SF,스릴러</td>\n",
       "    </tr>\n",
       "    <tr>\n",
       "      <th>3</th>\n",
       "      <td>트루스 어바웃 엠마누엘</td>\n",
       "      <td>드라마,스릴러</td>\n",
       "    </tr>\n",
       "    <tr>\n",
       "      <th>4</th>\n",
       "      <td>나우이즈굿</td>\n",
       "      <td>드라마,멜로/로맨스</td>\n",
       "    </tr>\n",
       "    <tr>\n",
       "      <th>5</th>\n",
       "      <td>크롤</td>\n",
       "      <td>액션,스릴러</td>\n",
       "    </tr>\n",
       "    <tr>\n",
       "      <th>6</th>\n",
       "      <td>폭풍의 언덕</td>\n",
       "      <td>드라마,멜로/로맨스</td>\n",
       "    </tr>\n",
       "  </tbody>\n",
       "</table>\n",
       "</div>"
      ],
      "text/plain": [
       "                 movieNm           genres\n",
       "0          메이즈 러너: 데스 큐어        액션,SF,스릴러\n",
       "1  캐리비안의 해적: 죽은 자는 말이 없다  액션,어드벤처,판타지,코미디\n",
       "2       메이즈 러너: 스코치 트라이얼        액션,SF,스릴러\n",
       "3           트루스 어바웃 엠마누엘          드라마,스릴러\n",
       "4                 나우이즈굿        드라마,멜로/로맨스\n",
       "5                     크롤           액션,스릴러\n",
       "6                 폭풍의 언덕       드라마,멜로/로맨스"
      ]
     },
     "execution_count": 41,
     "metadata": {},
     "output_type": "execute_result"
    }
   ],
   "source": [
    "pre_recom_pd=pd.DataFrame(genre_search)\n",
    "pre_recom_pd.columns=['movieNm', 'genres']\n",
    "pre_recom_pd"
   ]
  },
  {
   "cell_type": "markdown",
   "metadata": {},
   "source": [
    "## 추천 장르로 영화 추출"
   ]
  },
  {
   "cell_type": "code",
   "execution_count": 63,
   "metadata": {},
   "outputs": [
    {
     "data": {
      "text/plain": [
       "{0: '메이즈 러너: 데스 큐어',\n",
       " 1: '캐리비안의 해적: 죽은 자는 말이 없다',\n",
       " 2: '메이즈 러너: 스코치 트라이얼',\n",
       " 5: '크롤'}"
      ]
     },
     "execution_count": 63,
     "metadata": {},
     "output_type": "execute_result"
    }
   ],
   "source": [
    "recom_genre=dict()\n",
    "real=dict()\n",
    "for i in range(len(recom_genre_list)):\n",
    "    recom_genre=pre_recom_pd[pre_recom_pd['genres'].str.contains(recom_genre_list[i])]['movieNm']\n",
    "    real.update(recom_genre)\n",
    "real"
   ]
  },
  {
   "cell_type": "code",
   "execution_count": 69,
   "metadata": {},
   "outputs": [
    {
     "data": {
      "text/plain": [
       "['메이즈 러너: 데스 큐어', '캐리비안의 해적: 죽은 자는 말이 없다', '메이즈 러너: 스코치 트라이얼', '크롤']"
      ]
     },
     "execution_count": 69,
     "metadata": {},
     "output_type": "execute_result"
    }
   ],
   "source": [
    "recommendation_list=[]\n",
    "for key, value in real.items():\n",
    "    recommendation_list.append(value)\n",
    "recommendation_list"
   ]
  },
  {
   "cell_type": "markdown",
   "metadata": {},
   "source": [
    "## 영화추천"
   ]
  },
  {
   "cell_type": "code",
   "execution_count": 70,
   "metadata": {},
   "outputs": [
    {
     "data": {
      "text/plain": [
       "['크롤', '메이즈 러너: 데스 큐어', '메이즈 러너: 스코치 트라이얼', '캐리비안의 해적: 죽은 자는 말이 없다']"
      ]
     },
     "execution_count": 70,
     "metadata": {},
     "output_type": "execute_result"
    }
   ],
   "source": [
    "if len(recommendation)<5:\n",
    "    recommendation=random.sample(recommendation, len(recommendation))\n",
    "else:\n",
    "    recommendation=random.sample(recommendation, 5)\n",
    "recommendation"
   ]
  },
  {
   "cell_type": "code",
   "execution_count": null,
   "metadata": {},
   "outputs": [],
   "source": []
  }
 ],
 "metadata": {
  "kernelspec": {
   "display_name": "Python 3",
   "language": "python",
   "name": "python3"
  },
  "language_info": {
   "codemirror_mode": {
    "name": "ipython",
    "version": 3
   },
   "file_extension": ".py",
   "mimetype": "text/x-python",
   "name": "python",
   "nbconvert_exporter": "python",
   "pygments_lexer": "ipython3",
   "version": "3.8.5"
  }
 },
 "nbformat": 4,
 "nbformat_minor": 4
}
