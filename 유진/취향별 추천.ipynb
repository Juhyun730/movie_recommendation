{
 "cells": [
  {
   "cell_type": "markdown",
   "metadata": {},
   "source": [
    "## 영화 5개 받기"
   ]
  },
  {
   "cell_type": "code",
   "execution_count": 1,
   "metadata": {},
   "outputs": [
    {
     "name": "stdout",
     "output_type": "stream",
     "text": [
      "좋아하는 영화 5개를 입력해주세요(구분은 ,로): \n",
      "모가디슈, 블랙위도우, 라라랜드, 천문, 크루엘라\n",
      "['모가디슈', ' 블랙위도우', ' 라라랜드', ' 천문', ' 크루엘라']\n"
     ]
    }
   ],
   "source": [
    "print(\"좋아하는 영화 5개를 입력해주세요(구분은 ,로): \")\n",
    "movie_list = input().split(\",\")\n",
    "print(movie_list)"
   ]
  },
  {
   "cell_type": "markdown",
   "metadata": {},
   "source": [
    "## 영화 정보"
   ]
  },
  {
   "cell_type": "code",
   "execution_count": 2,
   "metadata": {},
   "outputs": [],
   "source": [
    "import requests\n",
    "import json"
   ]
  },
  {
   "cell_type": "code",
   "execution_count": 4,
   "metadata": {},
   "outputs": [
    {
     "name": "stdout",
     "output_type": "stream",
     "text": [
      "모가디슈의 개봉연도를 입력하세요: 2021\n",
      " 블랙위도우의 개봉연도를 입력하세요: 2021\n",
      " 천문의 개봉연도를 입력하세요: 2019\n",
      "[['20204117', '모가디슈', '액션,드라마', '2021'], ['20191951', '블랙 위도우', '액션,어드벤처,SF', '2021'], ['20167904', '라라랜드', '드라마,뮤지컬,멜로/로맨스', '2016'], ['20184571', '천문: 하늘에 묻는다', '사극', '2019'], ['20216362', '크루엘라', '드라마,범죄,코미디', '2021']]\n",
      "['모가디슈', '블랙 위도우', '라라랜드', '천문: 하늘에 묻는다', '크루엘라']\n"
     ]
    }
   ],
   "source": [
    "movie_cd_list = []\n",
    "director_list = []\n",
    "selected_movie_list = []\n",
    "\n",
    "for movie in movie_list:\n",
    "    movie_cd_url = 'https://www.kobis.or.kr/kobisopenapi/webservice/rest/movie/searchMovieList.json?key=d99e474ec53733a372d8413bd2753506&movieNm='+movie\n",
    "    res = requests.get(movie_cd_url)\n",
    "    text = res.text\n",
    "    d = json.loads(text)\n",
    "    if d['movieListResult']['totCnt'] > 1:    # 동명의 영화가 있을 경우\n",
    "        item_year = input(movie+\"의 개봉연도를 입력하세요: \")   # 개봉연도로 구분\n",
    "        for item in d['movieListResult']['movieList']:\n",
    "            if item_year == item['openDt'][:4]:\n",
    "                # director_list = director['peopleNm']\n",
    "                movie_cd_list.append([item['movieCd'],\n",
    "                                      item['movieNm'],\n",
    "                                      item['genreAlt'],\n",
    "                                      item['openDt'][:4]])\n",
    "                selected_movie_list.append(item['movieNm'])\n",
    "    if d['movieListResult']['totCnt'] == 1:\n",
    "        for item in d['movieListResult']['movieList']:\n",
    "            movie_cd_list.append([item['movieCd'],\n",
    "                                  item['movieNm'],\n",
    "                                  item['genreAlt'],\n",
    "                                  item['openDt'][:4]])\n",
    "            selected_movie_list.append(item['movieNm'])\n",
    "\n",
    "print(movie_cd_list)\n",
    "print(selected_movie_list)"
   ]
  },
  {
   "cell_type": "code",
   "execution_count": 5,
   "metadata": {},
   "outputs": [
    {
     "data": {
      "text/html": [
       "<div>\n",
       "<style scoped>\n",
       "    .dataframe tbody tr th:only-of-type {\n",
       "        vertical-align: middle;\n",
       "    }\n",
       "\n",
       "    .dataframe tbody tr th {\n",
       "        vertical-align: top;\n",
       "    }\n",
       "\n",
       "    .dataframe thead th {\n",
       "        text-align: right;\n",
       "    }\n",
       "</style>\n",
       "<table border=\"1\" class=\"dataframe\">\n",
       "  <thead>\n",
       "    <tr style=\"text-align: right;\">\n",
       "      <th></th>\n",
       "      <th>movieCd</th>\n",
       "      <th>movieNm</th>\n",
       "      <th>genreAlt</th>\n",
       "      <th>openYr</th>\n",
       "    </tr>\n",
       "  </thead>\n",
       "  <tbody>\n",
       "    <tr>\n",
       "      <th>0</th>\n",
       "      <td>20204117</td>\n",
       "      <td>모가디슈</td>\n",
       "      <td>액션,드라마</td>\n",
       "      <td>2021</td>\n",
       "    </tr>\n",
       "    <tr>\n",
       "      <th>1</th>\n",
       "      <td>20191951</td>\n",
       "      <td>블랙 위도우</td>\n",
       "      <td>액션,어드벤처,SF</td>\n",
       "      <td>2021</td>\n",
       "    </tr>\n",
       "    <tr>\n",
       "      <th>2</th>\n",
       "      <td>20167904</td>\n",
       "      <td>라라랜드</td>\n",
       "      <td>드라마,뮤지컬,멜로/로맨스</td>\n",
       "      <td>2016</td>\n",
       "    </tr>\n",
       "    <tr>\n",
       "      <th>3</th>\n",
       "      <td>20184571</td>\n",
       "      <td>천문: 하늘에 묻는다</td>\n",
       "      <td>사극</td>\n",
       "      <td>2019</td>\n",
       "    </tr>\n",
       "    <tr>\n",
       "      <th>4</th>\n",
       "      <td>20216362</td>\n",
       "      <td>크루엘라</td>\n",
       "      <td>드라마,범죄,코미디</td>\n",
       "      <td>2021</td>\n",
       "    </tr>\n",
       "  </tbody>\n",
       "</table>\n",
       "</div>"
      ],
      "text/plain": [
       "    movieCd      movieNm        genreAlt openYr\n",
       "0  20204117         모가디슈          액션,드라마   2021\n",
       "1  20191951       블랙 위도우      액션,어드벤처,SF   2021\n",
       "2  20167904         라라랜드  드라마,뮤지컬,멜로/로맨스   2016\n",
       "3  20184571  천문: 하늘에 묻는다              사극   2019\n",
       "4  20216362         크루엘라      드라마,범죄,코미디   2021"
      ]
     },
     "execution_count": 5,
     "metadata": {},
     "output_type": "execute_result"
    }
   ],
   "source": [
    "import pandas as pd\n",
    "\n",
    "movie_cdlist_df = pd.DataFrame(movie_cd_list)\n",
    "movie_cdlist_df.columns = ['movieCd', 'movieNm','genreAlt', 'openYr']\n",
    "movie_cdlist_df"
   ]
  },
  {
   "cell_type": "markdown",
   "metadata": {},
   "source": [
    "## 영화코드로 정보 추출"
   ]
  },
  {
   "cell_type": "code",
   "execution_count": 6,
   "metadata": {},
   "outputs": [
    {
     "name": "stdout",
     "output_type": "stream",
     "text": [
      "['류승완', '케이트 쇼트랜드', '데이미언 셔젤', '허진호', '크레이그 질레스피']\n",
      "['김윤석', '조인성', '허준호', '구교환', '김소진', '정만식', '김재화', '박경혜', '박명신', '한철우', '스칼렛 요한슨', '플로렌스 퓨', '레이첼 와이즈', '데이빗 하버', '엠마 스톤', '라이언 고슬링', '핀 위트록', 'J.K. 시몬스', '로즈마리 드윗', '최민식', '한석규', '신구', '김홍파', '허준호', '김태우', '김원해', '임원희', '오광록', '박성훈', '엠마 스톤', '엠마 톰슨', '마크 스트롱']\n",
      "['김윤석', '조인성', '허준호', '스칼렛 요한슨', '플로렌스 퓨', '레이첼 와이즈', '엠마 스톤', '라이언 고슬링', '핀 위트록', '최민식', '한석규', '신구', '엠마 스톤', '엠마 톰슨', '마크 스트롱']\n",
      "['액션', '드라마', '액션', '어드벤처', 'SF', '드라마', '뮤지컬', '멜로/로맨스', '사극', '드라마', '범죄', '코미디']\n"
     ]
    }
   ],
   "source": [
    "movie_detail_list = []\n",
    "movie_director_list = []\n",
    "movie_cast_list = []    # 한 영화당 최대 10명의 배우를 추출하여 저장한 리스트\n",
    "direct_list = []\n",
    "movie_mainactor_list = []    # 한 영화당 최대 2명(주인공)의 배우를 추출하여 저장한 리스트\n",
    "movie_genre_list = [] \n",
    "\n",
    "actor_list = []              # 5개 영화의 movie_cast_list을 모은 것\n",
    "mainactor_list = []          # 5개 영화의 movie_mainactor_list을 모은 것\n",
    "genre_list = []              # 5개 영화의 장르를 모은 것\n",
    "\n",
    "movie_actor_list = [[] for i in range(0,5)]\n",
    "movie_direc_list = [[] for i in range(0,5)]\n",
    "j=0\n",
    "\n",
    "for movieCd in movie_cdlist_df['movieCd']:\n",
    "    movie_director_list.clear()\n",
    "    movie_cast_list.clear()\n",
    "    movie_mainactor_list.clear()\n",
    "    movie_genre_list.clear()\n",
    "    actor_list_url = 'https://www.kobis.or.kr/kobisopenapi/webservice/rest/movie/searchMovieInfo.json?key=d99e474ec53733a372d8413bd2753506&movieCd='+movieCd\n",
    "    res = requests.get(actor_list_url)\n",
    "    text = res.text\n",
    "    d = json.loads(text)\n",
    "\n",
    "    for direc in d['movieInfoResult']['movieInfo']['directors']:\n",
    "        movie_director_list.append(direc['peopleNm'])\n",
    "        direct_list+=movie_director_list\n",
    "\n",
    "    for cast in d['movieInfoResult']['movieInfo']['actors']:\n",
    "        if len(movie_mainactor_list) < 3:\n",
    "            movie_mainactor_list.append(cast['peopleNm'])\n",
    "        if len(movie_cast_list) <= 9:\n",
    "            movie_cast_list.append(cast['peopleNm'])\n",
    "            \n",
    "    for genr in d['movieInfoResult']['movieInfo']['genres']:\n",
    "        movie_genre_list.append(genr['genreNm'])\n",
    "  \n",
    "    #print(movie_cast_list)\n",
    "    actor_list += movie_cast_list\n",
    "    mainactor_list += movie_mainactor_list\n",
    "    genre_list += movie_genre_list\n",
    "\n",
    "    \"\"\"for i in range(0,5):\n",
    "        movie_direc_list[i] = direct_list[i:i+1]\n",
    "        movie_actor_list[i] = actor_list[10*i:10*(i+1)]\"\"\"\n",
    "\n",
    "    \"\"\"movie_detail_list.append([d['movieInfoResult']['movieInfo']['movieCd'],\n",
    "                              d['movieInfoResult']['movieInfo']['movieNm'],\n",
    "                              d['movieInfoResult']['movieInfo']['openDt'][:4],\n",
    "                              movie_direc_list[j], movie_actor_list[j]])\"\"\"\n",
    "    j+=1\n",
    "\n",
    "print(direct_list)\n",
    "print(actor_list)\n",
    "print(mainactor_list)\n",
    "print(genre_list)"
   ]
  },
  {
   "cell_type": "markdown",
   "metadata": {},
   "source": [
    "## 배우 등장 횟수"
   ]
  },
  {
   "cell_type": "code",
   "execution_count": 7,
   "metadata": {},
   "outputs": [
    {
     "data": {
      "text/plain": [
       "{'김윤석': 1,\n",
       " '조인성': 1,\n",
       " '허준호': 2,\n",
       " '구교환': 1,\n",
       " '김소진': 1,\n",
       " '정만식': 1,\n",
       " '김재화': 1,\n",
       " '박경혜': 1,\n",
       " '박명신': 1,\n",
       " '한철우': 1,\n",
       " '스칼렛 요한슨': 1,\n",
       " '플로렌스 퓨': 1,\n",
       " '레이첼 와이즈': 1,\n",
       " '데이빗 하버': 1,\n",
       " '엠마 스톤': 2,\n",
       " '라이언 고슬링': 1,\n",
       " '핀 위트록': 1,\n",
       " 'J.K. 시몬스': 1,\n",
       " '로즈마리 드윗': 1,\n",
       " '최민식': 1,\n",
       " '한석규': 1,\n",
       " '신구': 1,\n",
       " '김홍파': 1,\n",
       " '김태우': 1,\n",
       " '김원해': 1,\n",
       " '임원희': 1,\n",
       " '오광록': 1,\n",
       " '박성훈': 1,\n",
       " '엠마 톰슨': 1,\n",
       " '마크 스트롱': 1}"
      ]
     },
     "execution_count": 7,
     "metadata": {},
     "output_type": "execute_result"
    }
   ],
   "source": [
    "actor_dict = dict()\n",
    "for i in actor_list:\n",
    "    if i not in actor_dict:\n",
    "        actor_dict[i]=1\n",
    "    else:\n",
    "        actor_dict[i]=actor_dict[i]+1\n",
    "\n",
    "actor_dict"
   ]
  },
  {
   "cell_type": "markdown",
   "metadata": {},
   "source": [
    "## 주연배우(맨 앞 3사람)"
   ]
  },
  {
   "cell_type": "code",
   "execution_count": 8,
   "metadata": {},
   "outputs": [
    {
     "data": {
      "text/plain": [
       "{'김윤석': 1,\n",
       " '조인성': 1,\n",
       " '허준호': 1,\n",
       " '스칼렛 요한슨': 1,\n",
       " '플로렌스 퓨': 1,\n",
       " '레이첼 와이즈': 1,\n",
       " '엠마 스톤': 2,\n",
       " '라이언 고슬링': 1,\n",
       " '핀 위트록': 1,\n",
       " '최민식': 1,\n",
       " '한석규': 1,\n",
       " '신구': 1,\n",
       " '엠마 톰슨': 1,\n",
       " '마크 스트롱': 1}"
      ]
     },
     "execution_count": 8,
     "metadata": {},
     "output_type": "execute_result"
    }
   ],
   "source": [
    "mainactor_dict = dict()\n",
    "for i in mainactor_list:\n",
    "    if i not in mainactor_dict:\n",
    "        mainactor_dict[i]=1\n",
    "    else:\n",
    "        mainactor_dict[i]=mainactor_dict[i]+1\n",
    "\n",
    "mainactor_dict"
   ]
  },
  {
   "cell_type": "markdown",
   "metadata": {},
   "source": [
    "## 추천배우 5명"
   ]
  },
  {
   "cell_type": "markdown",
   "metadata": {},
   "source": [
    "- 2번 등장 배우 우선\n",
    "- 빈자리는 랜덤"
   ]
  },
  {
   "cell_type": "code",
   "execution_count": 9,
   "metadata": {},
   "outputs": [
    {
     "data": {
      "text/plain": [
       "['허준호', '엠마 스톤', '김윤석', '라이언 고슬링']"
      ]
     },
     "execution_count": 9,
     "metadata": {},
     "output_type": "execute_result"
    }
   ],
   "source": [
    "import random\n",
    "\n",
    "prefer_actor_list = []\n",
    "for key, value in actor_dict.items():\n",
    "    if value > 1:\n",
    "        prefer_actor_list.append(key)\n",
    "if len(prefer_actor_list)<5:\n",
    "    for i in range(5-len(prefer_actor_list)):\n",
    "        actor = random.choice(mainactor_list)\n",
    "        if actor not in prefer_actor_list:\n",
    "            prefer_actor_list.append(actor)\n",
    "\n",
    "prefer_actor_list"
   ]
  },
  {
   "cell_type": "markdown",
   "metadata": {},
   "source": [
    "## 배우 추천 코드"
   ]
  },
  {
   "cell_type": "code",
   "execution_count": 10,
   "metadata": {},
   "outputs": [],
   "source": [
    "actor_code = []\n",
    "filmo_list = []\n",
    "final_filmo_list = []\n",
    "\n",
    "for prefer_actor in prefer_actor_list:\n",
    "    actor_list_url = 'http://kobis.or.kr/kobisopenapi/webservice/rest/people/searchPeopleList.json?key=d99e474ec53733a372d8413bd2753506'+'&peopleNm='+prefer_actor\n",
    "    res = requests.get(actor_list_url)\n",
    "    text = res.text\n",
    "    d = json.loads(text)\n",
    "\n",
    "    for actor in d['peopleListResult']['peopleList']:\n",
    "        final_filmo_list.clear()\n",
    "        if actor['repRoleNm'] == '배우' and actor['peopleNmEn']!= \"\":\n",
    "            filmo_list = actor['filmoNames'].split(\"|\")\n",
    "            for filmo in filmo_list:\n",
    "                if filmo not in selected_movie_list:\n",
    "                    final_filmo_list.append(filmo)\n",
    "            actor_code.append([actor['peopleCd'], actor['peopleNm'],actor['peopleNmEn'], actor['repRoleNm'], final_filmo_list[:5]])"
   ]
  },
  {
   "cell_type": "code",
   "execution_count": 11,
   "metadata": {},
   "outputs": [
    {
     "name": "stdout",
     "output_type": "stream",
     "text": [
      "['모가디슈', '블랙 위도우', '라라랜드', '천문: 하늘에 묻는다', '크루엘라']\n",
      "['퍼스트맨', '블레이드 러너 2049', '송 투 송', '라라랜드', '나이스 가이즈', '빅쇼트', '로스트리버', '온리 갓 포기브스', '플레이스 비욘드 더 파인즈', '갱스터 스쿼드', '킹메이커', '드라이브', '크레이지 스투피드 러브', '블루 발렌타인', '올 굿 에브리씽', '내겐 너무 사랑스러운 그녀', '프랙처', '하프넬슨', '노트북', '유나이티드 스테이츠 오브 리랜드', '빌리버']\n",
      "['퍼스트맨', '블레이드 러너 2049', '송 투 송', '나이스 가이즈', '빅쇼트', '로스트리버', '온리 갓 포기브스', '플레이스 비욘드 더 파인즈', '갱스터 스쿼드', '킹메이커', '드라이브', '크레이지 스투피드 러브', '블루 발렌타인', '올 굿 에브리씽', '내겐 너무 사랑스러운 그녀', '프랙처', '하프넬슨', '노트북', '유나이티드 스테이츠 오브 리랜드', '빌리버']\n"
     ]
    }
   ],
   "source": [
    "print(selected_movie_list)\n",
    "print(filmo_list)\n",
    "print(final_filmo_list)"
   ]
  },
  {
   "cell_type": "code",
   "execution_count": 13,
   "metadata": {},
   "outputs": [
    {
     "data": {
      "text/html": [
       "<div>\n",
       "<style scoped>\n",
       "    .dataframe tbody tr th:only-of-type {\n",
       "        vertical-align: middle;\n",
       "    }\n",
       "\n",
       "    .dataframe tbody tr th {\n",
       "        vertical-align: top;\n",
       "    }\n",
       "\n",
       "    .dataframe thead th {\n",
       "        text-align: right;\n",
       "    }\n",
       "</style>\n",
       "<table border=\"1\" class=\"dataframe\">\n",
       "  <thead>\n",
       "    <tr style=\"text-align: right;\">\n",
       "      <th></th>\n",
       "      <th>peopleCd</th>\n",
       "      <th>peopleNm</th>\n",
       "      <th>peopleNmEn</th>\n",
       "      <th>repRoleNm</th>\n",
       "      <th>filmoNames</th>\n",
       "    </tr>\n",
       "  </thead>\n",
       "  <tbody>\n",
       "    <tr>\n",
       "      <th>0</th>\n",
       "      <td>10088453</td>\n",
       "      <td>허준호</td>\n",
       "      <td>HUH Joon-ho</td>\n",
       "      <td>배우</td>\n",
       "      <td>[노량: 죽음의 바다, 결백, 퍼펙트맨, 국가부도의 날, 인랑]</td>\n",
       "    </tr>\n",
       "    <tr>\n",
       "      <th>1</th>\n",
       "      <td>10049633</td>\n",
       "      <td>엠마 스톤</td>\n",
       "      <td>Emma Stone</td>\n",
       "      <td>배우</td>\n",
       "      <td>[크루즈 패밀리: 뉴 에이지, 좀비랜드: 더블 탭, 더 페이버릿: 여왕의 여자, 빌...</td>\n",
       "    </tr>\n",
       "    <tr>\n",
       "      <th>2</th>\n",
       "      <td>10005276</td>\n",
       "      <td>김윤석</td>\n",
       "      <td>KIM Yun-seok</td>\n",
       "      <td>배우</td>\n",
       "      <td>[노량: 죽음의 바다, 바이러스(가제), 미성년, 암수살인, 1987]</td>\n",
       "    </tr>\n",
       "    <tr>\n",
       "      <th>3</th>\n",
       "      <td>10014012</td>\n",
       "      <td>라이언 고슬링</td>\n",
       "      <td>Ryan Gosling</td>\n",
       "      <td>배우</td>\n",
       "      <td>[퍼스트맨, 블레이드 러너 2049, 송 투 송, 나이스 가이즈, 빅쇼트]</td>\n",
       "    </tr>\n",
       "  </tbody>\n",
       "</table>\n",
       "</div>"
      ],
      "text/plain": [
       "   peopleCd peopleNm    peopleNmEn repRoleNm  \\\n",
       "0  10088453      허준호   HUH Joon-ho        배우   \n",
       "1  10049633    엠마 스톤    Emma Stone        배우   \n",
       "2  10005276      김윤석  KIM Yun-seok        배우   \n",
       "3  10014012  라이언 고슬링  Ryan Gosling        배우   \n",
       "\n",
       "                                          filmoNames  \n",
       "0                [노량: 죽음의 바다, 결백, 퍼펙트맨, 국가부도의 날, 인랑]  \n",
       "1  [크루즈 패밀리: 뉴 에이지, 좀비랜드: 더블 탭, 더 페이버릿: 여왕의 여자, 빌...  \n",
       "2            [노량: 죽음의 바다, 바이러스(가제), 미성년, 암수살인, 1987]  \n",
       "3          [퍼스트맨, 블레이드 러너 2049, 송 투 송, 나이스 가이즈, 빅쇼트]  "
      ]
     },
     "execution_count": 13,
     "metadata": {},
     "output_type": "execute_result"
    }
   ],
   "source": [
    "actor_code_df = pd.DataFrame(actor_code)\n",
    "actor_code_df.columns = ['peopleCd','peopleNm','peopleNmEn','repRoleNm', 'filmoNames']\n",
    "actor_code_df"
   ]
  },
  {
   "cell_type": "markdown",
   "metadata": {},
   "source": [
    "## 장르 등장 횟수 "
   ]
  },
  {
   "cell_type": "code",
   "execution_count": 14,
   "metadata": {},
   "outputs": [
    {
     "data": {
      "text/plain": [
       "{'액션': 2,\n",
       " '드라마': 3,\n",
       " '어드벤처': 1,\n",
       " 'SF': 1,\n",
       " '뮤지컬': 1,\n",
       " '멜로/로맨스': 1,\n",
       " '사극': 1,\n",
       " '범죄': 1,\n",
       " '코미디': 1}"
      ]
     },
     "execution_count": 14,
     "metadata": {},
     "output_type": "execute_result"
    }
   ],
   "source": [
    "genre_dict = dict()\n",
    "for i in genre_list:\n",
    "    if i not in genre_dict:\n",
    "        genre_dict[i]=1\n",
    "    else:\n",
    "        genre_dict[i]=genre_dict[i]+1\n",
    "\n",
    "genre_dict"
   ]
  },
  {
   "cell_type": "code",
   "execution_count": 70,
   "metadata": {},
   "outputs": [
    {
     "data": {
      "text/html": [
       "<div>\n",
       "<style scoped>\n",
       "    .dataframe tbody tr th:only-of-type {\n",
       "        vertical-align: middle;\n",
       "    }\n",
       "\n",
       "    .dataframe tbody tr th {\n",
       "        vertical-align: top;\n",
       "    }\n",
       "\n",
       "    .dataframe thead th {\n",
       "        text-align: right;\n",
       "    }\n",
       "</style>\n",
       "<table border=\"1\" class=\"dataframe\">\n",
       "  <thead>\n",
       "    <tr style=\"text-align: right;\">\n",
       "      <th></th>\n",
       "      <th>genres</th>\n",
       "      <th>number</th>\n",
       "    </tr>\n",
       "  </thead>\n",
       "  <tbody>\n",
       "    <tr>\n",
       "      <th>0</th>\n",
       "      <td>액션</td>\n",
       "      <td>2</td>\n",
       "    </tr>\n",
       "    <tr>\n",
       "      <th>1</th>\n",
       "      <td>드라마</td>\n",
       "      <td>3</td>\n",
       "    </tr>\n",
       "    <tr>\n",
       "      <th>2</th>\n",
       "      <td>어드벤처</td>\n",
       "      <td>1</td>\n",
       "    </tr>\n",
       "    <tr>\n",
       "      <th>3</th>\n",
       "      <td>SF</td>\n",
       "      <td>1</td>\n",
       "    </tr>\n",
       "    <tr>\n",
       "      <th>4</th>\n",
       "      <td>뮤지컬</td>\n",
       "      <td>1</td>\n",
       "    </tr>\n",
       "    <tr>\n",
       "      <th>5</th>\n",
       "      <td>멜로/로맨스</td>\n",
       "      <td>1</td>\n",
       "    </tr>\n",
       "    <tr>\n",
       "      <th>6</th>\n",
       "      <td>사극</td>\n",
       "      <td>1</td>\n",
       "    </tr>\n",
       "    <tr>\n",
       "      <th>7</th>\n",
       "      <td>범죄</td>\n",
       "      <td>1</td>\n",
       "    </tr>\n",
       "    <tr>\n",
       "      <th>8</th>\n",
       "      <td>코미디</td>\n",
       "      <td>1</td>\n",
       "    </tr>\n",
       "  </tbody>\n",
       "</table>\n",
       "</div>"
      ],
      "text/plain": [
       "   genres  number\n",
       "0      액션       2\n",
       "1     드라마       3\n",
       "2    어드벤처       1\n",
       "3      SF       1\n",
       "4     뮤지컬       1\n",
       "5  멜로/로맨스       1\n",
       "6      사극       1\n",
       "7      범죄       1\n",
       "8     코미디       1"
      ]
     },
     "execution_count": 70,
     "metadata": {},
     "output_type": "execute_result"
    }
   ],
   "source": [
    "genre_df = pd.DataFrame(list(genre_dict.items()), columns=['genres', 'number'])\n",
    "genre_df"
   ]
  },
  {
   "cell_type": "code",
   "execution_count": 121,
   "metadata": {},
   "outputs": [
    {
     "data": {
      "text/plain": [
       "0     액션\n",
       "1    드라마\n",
       "Name: genres, dtype: object"
      ]
     },
     "execution_count": 121,
     "metadata": {},
     "output_type": "execute_result"
    }
   ],
   "source": [
    "recom_genre=[]\n",
    "recom_genre=genre_df[genre_df['number']>1]\n",
    "recom_genre_list=recom_genre['genres']\n",
    "recom_genre_list"
   ]
  },
  {
   "cell_type": "markdown",
   "metadata": {},
   "source": [
    "## 추려진 영화 장르 검색"
   ]
  },
  {
   "cell_type": "code",
   "execution_count": 122,
   "metadata": {},
   "outputs": [
    {
     "name": "stdout",
     "output_type": "stream",
     "text": [
      "[['퍼스트맨', 'SF,드라마'], ['블레이드 러너 2049', 'SF,액션'], ['송 투 송', '드라마,멜로/로맨스'], ['나이스 가이즈', '범죄,미스터리,스릴러'], ['빅쇼트', '드라마'], ['로스트리버', '판타지,스릴러'], ['로스트 리버 - 링컨의 비밀병기', '사극'], ['온리 갓 포기브스', '액션'], ['플레이스 비욘드 더 파인즈', '범죄,드라마'], ['갱스터 스쿼드', '범죄,드라마'], ['킹메이커', '드라마'], ['킹메이커', '드라마'], ['킹메이커', '드라마'], ['드라이브(가제)', '스릴러'], ['드라이브 마이 카', '드라마'], ['오버 드라이브', '액션'], ['드라이브: 분노의 질주', '스릴러'], ['본 투 드라이브 ', '다큐멘터리'], ['드라이브웨이', '기타'], ['드라이브', '액션,멜로/로맨스'], ['EXiS2020 인디비주얼 2 + 4 + 5', '기타'], ['쉬머 박스 드라이브', '기타'], ['판타스틱 전기자동차 드라이브', '애니메이션'], ['크레이지 스투피드 러브', '코미디,멜로/로맨스,드라마'], ['블루 발렌타인', '드라마,멜로/로맨스'], ['올 굿 에브리씽', '미스터리,드라마'], ['내겐 너무 사랑스러운 그녀', '코미디,드라마'], ['프랙처', '범죄,미스터리'], ['하프넬슨', '드라마'], ['노트북', '멜로/로맨스'], ['유나이티드 스테이츠 오브 리랜드', '범죄,드라마'], ['언빌리버블 스페이스 러브', '애니메이션'], ['빌리버', '드라마'], ['빌리버스', '공포(호러),스릴러'], ['빌리버스', '']]\n"
     ]
    }
   ],
   "source": [
    "genre_search=[]\n",
    "\n",
    "for i in range(len(final_filmo_list)):\n",
    "    genre_search_url = 'http://kobis.or.kr/kobisopenapi/webservice/rest/movie/searchMovieList.json?key=d99e474ec53733a372d8413bd2753506'+'&movieNm='+final_filmo_list[i]\n",
    "    res = requests.get(genre_search_url)\n",
    "    text = res.text\n",
    "    d = json.loads(text)\n",
    "        \n",
    "    for movie in d['movieListResult']['movieList']:\n",
    "        genre_search.append([movie['movieNm'], movie['genreAlt']])\n",
    "\n",
    "print(genre_search)"
   ]
  },
  {
   "cell_type": "code",
   "execution_count": 201,
   "metadata": {},
   "outputs": [
    {
     "data": {
      "text/html": [
       "<div>\n",
       "<style scoped>\n",
       "    .dataframe tbody tr th:only-of-type {\n",
       "        vertical-align: middle;\n",
       "    }\n",
       "\n",
       "    .dataframe tbody tr th {\n",
       "        vertical-align: top;\n",
       "    }\n",
       "\n",
       "    .dataframe thead th {\n",
       "        text-align: right;\n",
       "    }\n",
       "</style>\n",
       "<table border=\"1\" class=\"dataframe\">\n",
       "  <thead>\n",
       "    <tr style=\"text-align: right;\">\n",
       "      <th></th>\n",
       "      <th>movieNm</th>\n",
       "      <th>genres</th>\n",
       "    </tr>\n",
       "  </thead>\n",
       "  <tbody>\n",
       "    <tr>\n",
       "      <th>0</th>\n",
       "      <td>퍼스트맨</td>\n",
       "      <td>SF,드라마</td>\n",
       "    </tr>\n",
       "    <tr>\n",
       "      <th>1</th>\n",
       "      <td>블레이드 러너 2049</td>\n",
       "      <td>SF,액션</td>\n",
       "    </tr>\n",
       "    <tr>\n",
       "      <th>2</th>\n",
       "      <td>송 투 송</td>\n",
       "      <td>드라마,멜로/로맨스</td>\n",
       "    </tr>\n",
       "    <tr>\n",
       "      <th>3</th>\n",
       "      <td>나이스 가이즈</td>\n",
       "      <td>범죄,미스터리,스릴러</td>\n",
       "    </tr>\n",
       "    <tr>\n",
       "      <th>4</th>\n",
       "      <td>빅쇼트</td>\n",
       "      <td>드라마</td>\n",
       "    </tr>\n",
       "    <tr>\n",
       "      <th>5</th>\n",
       "      <td>로스트리버</td>\n",
       "      <td>판타지,스릴러</td>\n",
       "    </tr>\n",
       "    <tr>\n",
       "      <th>6</th>\n",
       "      <td>로스트 리버 - 링컨의 비밀병기</td>\n",
       "      <td>사극</td>\n",
       "    </tr>\n",
       "    <tr>\n",
       "      <th>7</th>\n",
       "      <td>온리 갓 포기브스</td>\n",
       "      <td>액션</td>\n",
       "    </tr>\n",
       "    <tr>\n",
       "      <th>8</th>\n",
       "      <td>플레이스 비욘드 더 파인즈</td>\n",
       "      <td>범죄,드라마</td>\n",
       "    </tr>\n",
       "    <tr>\n",
       "      <th>9</th>\n",
       "      <td>갱스터 스쿼드</td>\n",
       "      <td>범죄,드라마</td>\n",
       "    </tr>\n",
       "    <tr>\n",
       "      <th>10</th>\n",
       "      <td>킹메이커</td>\n",
       "      <td>드라마</td>\n",
       "    </tr>\n",
       "    <tr>\n",
       "      <th>11</th>\n",
       "      <td>킹메이커</td>\n",
       "      <td>드라마</td>\n",
       "    </tr>\n",
       "    <tr>\n",
       "      <th>12</th>\n",
       "      <td>킹메이커</td>\n",
       "      <td>드라마</td>\n",
       "    </tr>\n",
       "    <tr>\n",
       "      <th>13</th>\n",
       "      <td>드라이브(가제)</td>\n",
       "      <td>스릴러</td>\n",
       "    </tr>\n",
       "    <tr>\n",
       "      <th>14</th>\n",
       "      <td>드라이브 마이 카</td>\n",
       "      <td>드라마</td>\n",
       "    </tr>\n",
       "    <tr>\n",
       "      <th>15</th>\n",
       "      <td>오버 드라이브</td>\n",
       "      <td>액션</td>\n",
       "    </tr>\n",
       "    <tr>\n",
       "      <th>16</th>\n",
       "      <td>드라이브: 분노의 질주</td>\n",
       "      <td>스릴러</td>\n",
       "    </tr>\n",
       "    <tr>\n",
       "      <th>17</th>\n",
       "      <td>본 투 드라이브</td>\n",
       "      <td>다큐멘터리</td>\n",
       "    </tr>\n",
       "    <tr>\n",
       "      <th>18</th>\n",
       "      <td>드라이브웨이</td>\n",
       "      <td>기타</td>\n",
       "    </tr>\n",
       "    <tr>\n",
       "      <th>19</th>\n",
       "      <td>드라이브</td>\n",
       "      <td>액션,멜로/로맨스</td>\n",
       "    </tr>\n",
       "    <tr>\n",
       "      <th>20</th>\n",
       "      <td>EXiS2020 인디비주얼 2 + 4 + 5</td>\n",
       "      <td>기타</td>\n",
       "    </tr>\n",
       "    <tr>\n",
       "      <th>21</th>\n",
       "      <td>쉬머 박스 드라이브</td>\n",
       "      <td>기타</td>\n",
       "    </tr>\n",
       "    <tr>\n",
       "      <th>22</th>\n",
       "      <td>판타스틱 전기자동차 드라이브</td>\n",
       "      <td>애니메이션</td>\n",
       "    </tr>\n",
       "    <tr>\n",
       "      <th>23</th>\n",
       "      <td>크레이지 스투피드 러브</td>\n",
       "      <td>코미디,멜로/로맨스,드라마</td>\n",
       "    </tr>\n",
       "    <tr>\n",
       "      <th>24</th>\n",
       "      <td>블루 발렌타인</td>\n",
       "      <td>드라마,멜로/로맨스</td>\n",
       "    </tr>\n",
       "    <tr>\n",
       "      <th>25</th>\n",
       "      <td>올 굿 에브리씽</td>\n",
       "      <td>미스터리,드라마</td>\n",
       "    </tr>\n",
       "    <tr>\n",
       "      <th>26</th>\n",
       "      <td>내겐 너무 사랑스러운 그녀</td>\n",
       "      <td>코미디,드라마</td>\n",
       "    </tr>\n",
       "    <tr>\n",
       "      <th>27</th>\n",
       "      <td>프랙처</td>\n",
       "      <td>범죄,미스터리</td>\n",
       "    </tr>\n",
       "    <tr>\n",
       "      <th>28</th>\n",
       "      <td>하프넬슨</td>\n",
       "      <td>드라마</td>\n",
       "    </tr>\n",
       "    <tr>\n",
       "      <th>29</th>\n",
       "      <td>노트북</td>\n",
       "      <td>멜로/로맨스</td>\n",
       "    </tr>\n",
       "    <tr>\n",
       "      <th>30</th>\n",
       "      <td>유나이티드 스테이츠 오브 리랜드</td>\n",
       "      <td>범죄,드라마</td>\n",
       "    </tr>\n",
       "    <tr>\n",
       "      <th>31</th>\n",
       "      <td>언빌리버블 스페이스 러브</td>\n",
       "      <td>애니메이션</td>\n",
       "    </tr>\n",
       "    <tr>\n",
       "      <th>32</th>\n",
       "      <td>빌리버</td>\n",
       "      <td>드라마</td>\n",
       "    </tr>\n",
       "    <tr>\n",
       "      <th>33</th>\n",
       "      <td>빌리버스</td>\n",
       "      <td>공포(호러),스릴러</td>\n",
       "    </tr>\n",
       "    <tr>\n",
       "      <th>34</th>\n",
       "      <td>빌리버스</td>\n",
       "      <td></td>\n",
       "    </tr>\n",
       "  </tbody>\n",
       "</table>\n",
       "</div>"
      ],
      "text/plain": [
       "                     movieNm          genres\n",
       "0                       퍼스트맨          SF,드라마\n",
       "1               블레이드 러너 2049           SF,액션\n",
       "2                      송 투 송      드라마,멜로/로맨스\n",
       "3                    나이스 가이즈     범죄,미스터리,스릴러\n",
       "4                        빅쇼트             드라마\n",
       "5                      로스트리버         판타지,스릴러\n",
       "6          로스트 리버 - 링컨의 비밀병기              사극\n",
       "7                  온리 갓 포기브스              액션\n",
       "8             플레이스 비욘드 더 파인즈          범죄,드라마\n",
       "9                    갱스터 스쿼드          범죄,드라마\n",
       "10                      킹메이커             드라마\n",
       "11                      킹메이커             드라마\n",
       "12                      킹메이커             드라마\n",
       "13                  드라이브(가제)             스릴러\n",
       "14                 드라이브 마이 카             드라마\n",
       "15                   오버 드라이브              액션\n",
       "16              드라이브: 분노의 질주             스릴러\n",
       "17                 본 투 드라이브            다큐멘터리\n",
       "18                    드라이브웨이              기타\n",
       "19                      드라이브       액션,멜로/로맨스\n",
       "20  EXiS2020 인디비주얼 2 + 4 + 5              기타\n",
       "21                쉬머 박스 드라이브              기타\n",
       "22           판타스틱 전기자동차 드라이브           애니메이션\n",
       "23              크레이지 스투피드 러브  코미디,멜로/로맨스,드라마\n",
       "24                   블루 발렌타인      드라마,멜로/로맨스\n",
       "25                  올 굿 에브리씽        미스터리,드라마\n",
       "26            내겐 너무 사랑스러운 그녀         코미디,드라마\n",
       "27                       프랙처         범죄,미스터리\n",
       "28                      하프넬슨             드라마\n",
       "29                       노트북          멜로/로맨스\n",
       "30         유나이티드 스테이츠 오브 리랜드          범죄,드라마\n",
       "31             언빌리버블 스페이스 러브           애니메이션\n",
       "32                       빌리버             드라마\n",
       "33                      빌리버스      공포(호러),스릴러\n",
       "34                      빌리버스                "
      ]
     },
     "execution_count": 201,
     "metadata": {},
     "output_type": "execute_result"
    }
   ],
   "source": [
    "pre_recom_pd=pd.DataFrame(genre_search)\n",
    "pre_recom_pd.columns=['movieNm', 'genres']\n",
    "pre_recom_pd"
   ]
  },
  {
   "cell_type": "code",
   "execution_count": 216,
   "metadata": {},
   "outputs": [
    {
     "data": {
      "text/plain": [
       "[7     온리 갓 포기브스\n",
       " 15      오버 드라이브\n",
       " Name: movieNm, dtype: object,\n",
       " 4           빅쇼트\n",
       " 10         킹메이커\n",
       " 11         킹메이커\n",
       " 12         킹메이커\n",
       " 14    드라이브 마이 카\n",
       " 28         하프넬슨\n",
       " 32          빌리버\n",
       " Name: movieNm, dtype: object]"
      ]
     },
     "execution_count": 216,
     "metadata": {},
     "output_type": "execute_result"
    }
   ],
   "source": [
    "pre_recom_genre=[]\n",
    "for i in range(0, len(recom_genre_list)):\n",
    "    pre_recom_genre.append(pre_recom_pd[pre_recom_pd['genres']==recom_genre_list[i]]['movieNm'])\n",
    "pre_recom_genre"
   ]
  },
  {
   "cell_type": "code",
   "execution_count": 244,
   "metadata": {},
   "outputs": [
    {
     "data": {
      "text/html": [
       "<div>\n",
       "<style scoped>\n",
       "    .dataframe tbody tr th:only-of-type {\n",
       "        vertical-align: middle;\n",
       "    }\n",
       "\n",
       "    .dataframe tbody tr th {\n",
       "        vertical-align: top;\n",
       "    }\n",
       "\n",
       "    .dataframe thead th {\n",
       "        text-align: right;\n",
       "    }\n",
       "</style>\n",
       "<table border=\"1\" class=\"dataframe\">\n",
       "  <thead>\n",
       "    <tr style=\"text-align: right;\">\n",
       "      <th></th>\n",
       "      <th>4</th>\n",
       "      <th>7</th>\n",
       "      <th>10</th>\n",
       "      <th>11</th>\n",
       "      <th>12</th>\n",
       "      <th>14</th>\n",
       "      <th>15</th>\n",
       "      <th>28</th>\n",
       "      <th>32</th>\n",
       "    </tr>\n",
       "  </thead>\n",
       "  <tbody>\n",
       "    <tr>\n",
       "      <th>movieNm</th>\n",
       "      <td>NaN</td>\n",
       "      <td>온리 갓 포기브스</td>\n",
       "      <td>NaN</td>\n",
       "      <td>NaN</td>\n",
       "      <td>NaN</td>\n",
       "      <td>NaN</td>\n",
       "      <td>오버 드라이브</td>\n",
       "      <td>NaN</td>\n",
       "      <td>NaN</td>\n",
       "    </tr>\n",
       "    <tr>\n",
       "      <th>movieNm</th>\n",
       "      <td>빅쇼트</td>\n",
       "      <td>NaN</td>\n",
       "      <td>킹메이커</td>\n",
       "      <td>킹메이커</td>\n",
       "      <td>킹메이커</td>\n",
       "      <td>드라이브 마이 카</td>\n",
       "      <td>NaN</td>\n",
       "      <td>하프넬슨</td>\n",
       "      <td>빌리버</td>\n",
       "    </tr>\n",
       "  </tbody>\n",
       "</table>\n",
       "</div>"
      ],
      "text/plain": [
       "          4          7     10    11    12         14       15    28   32\n",
       "movieNm  NaN  온리 갓 포기브스   NaN   NaN   NaN        NaN  오버 드라이브   NaN  NaN\n",
       "movieNm  빅쇼트        NaN  킹메이커  킹메이커  킹메이커  드라이브 마이 카      NaN  하프넬슨  빌리버"
      ]
     },
     "execution_count": 244,
     "metadata": {},
     "output_type": "execute_result"
    }
   ],
   "source": [
    "recom_df=pd.DataFrame(pre_recom_genre)\n",
    "recom_df"
   ]
  },
  {
   "cell_type": "code",
   "execution_count": 245,
   "metadata": {},
   "outputs": [
    {
     "data": {
      "text/html": [
       "<div>\n",
       "<style scoped>\n",
       "    .dataframe tbody tr th:only-of-type {\n",
       "        vertical-align: middle;\n",
       "    }\n",
       "\n",
       "    .dataframe tbody tr th {\n",
       "        vertical-align: top;\n",
       "    }\n",
       "\n",
       "    .dataframe thead th {\n",
       "        text-align: right;\n",
       "    }\n",
       "</style>\n",
       "<table border=\"1\" class=\"dataframe\">\n",
       "  <thead>\n",
       "    <tr style=\"text-align: right;\">\n",
       "      <th></th>\n",
       "      <th>movieNm</th>\n",
       "      <th>movieNm</th>\n",
       "    </tr>\n",
       "  </thead>\n",
       "  <tbody>\n",
       "    <tr>\n",
       "      <th>4</th>\n",
       "      <td>NaN</td>\n",
       "      <td>빅쇼트</td>\n",
       "    </tr>\n",
       "    <tr>\n",
       "      <th>7</th>\n",
       "      <td>온리 갓 포기브스</td>\n",
       "      <td>NaN</td>\n",
       "    </tr>\n",
       "    <tr>\n",
       "      <th>10</th>\n",
       "      <td>NaN</td>\n",
       "      <td>킹메이커</td>\n",
       "    </tr>\n",
       "    <tr>\n",
       "      <th>11</th>\n",
       "      <td>NaN</td>\n",
       "      <td>킹메이커</td>\n",
       "    </tr>\n",
       "    <tr>\n",
       "      <th>12</th>\n",
       "      <td>NaN</td>\n",
       "      <td>킹메이커</td>\n",
       "    </tr>\n",
       "    <tr>\n",
       "      <th>14</th>\n",
       "      <td>NaN</td>\n",
       "      <td>드라이브 마이 카</td>\n",
       "    </tr>\n",
       "    <tr>\n",
       "      <th>15</th>\n",
       "      <td>오버 드라이브</td>\n",
       "      <td>NaN</td>\n",
       "    </tr>\n",
       "    <tr>\n",
       "      <th>28</th>\n",
       "      <td>NaN</td>\n",
       "      <td>하프넬슨</td>\n",
       "    </tr>\n",
       "    <tr>\n",
       "      <th>32</th>\n",
       "      <td>NaN</td>\n",
       "      <td>빌리버</td>\n",
       "    </tr>\n",
       "  </tbody>\n",
       "</table>\n",
       "</div>"
      ],
      "text/plain": [
       "      movieNm    movieNm\n",
       "4         NaN        빅쇼트\n",
       "7   온리 갓 포기브스        NaN\n",
       "10        NaN       킹메이커\n",
       "11        NaN       킹메이커\n",
       "12        NaN       킹메이커\n",
       "14        NaN  드라이브 마이 카\n",
       "15    오버 드라이브        NaN\n",
       "28        NaN       하프넬슨\n",
       "32        NaN        빌리버"
      ]
     },
     "execution_count": 245,
     "metadata": {},
     "output_type": "execute_result"
    }
   ],
   "source": [
    "recom_df=recom_df.transpose()\n",
    "recom_df"
   ]
  },
  {
   "cell_type": "code",
   "execution_count": 265,
   "metadata": {},
   "outputs": [
    {
     "data": {
      "text/html": [
       "<div>\n",
       "<style scoped>\n",
       "    .dataframe tbody tr th:only-of-type {\n",
       "        vertical-align: middle;\n",
       "    }\n",
       "\n",
       "    .dataframe tbody tr th {\n",
       "        vertical-align: top;\n",
       "    }\n",
       "\n",
       "    .dataframe thead th {\n",
       "        text-align: right;\n",
       "    }\n",
       "</style>\n",
       "<table border=\"1\" class=\"dataframe\">\n",
       "  <thead>\n",
       "    <tr style=\"text-align: right;\">\n",
       "      <th></th>\n",
       "      <th>movieNm</th>\n",
       "      <th>movieNm</th>\n",
       "    </tr>\n",
       "  </thead>\n",
       "  <tbody>\n",
       "    <tr>\n",
       "      <th>0</th>\n",
       "      <td>NaN</td>\n",
       "      <td>빅쇼트</td>\n",
       "    </tr>\n",
       "    <tr>\n",
       "      <th>1</th>\n",
       "      <td>온리 갓 포기브스</td>\n",
       "      <td>NaN</td>\n",
       "    </tr>\n",
       "    <tr>\n",
       "      <th>2</th>\n",
       "      <td>NaN</td>\n",
       "      <td>킹메이커</td>\n",
       "    </tr>\n",
       "    <tr>\n",
       "      <th>3</th>\n",
       "      <td>NaN</td>\n",
       "      <td>킹메이커</td>\n",
       "    </tr>\n",
       "    <tr>\n",
       "      <th>4</th>\n",
       "      <td>NaN</td>\n",
       "      <td>킹메이커</td>\n",
       "    </tr>\n",
       "    <tr>\n",
       "      <th>5</th>\n",
       "      <td>NaN</td>\n",
       "      <td>드라이브 마이 카</td>\n",
       "    </tr>\n",
       "    <tr>\n",
       "      <th>6</th>\n",
       "      <td>오버 드라이브</td>\n",
       "      <td>NaN</td>\n",
       "    </tr>\n",
       "    <tr>\n",
       "      <th>7</th>\n",
       "      <td>NaN</td>\n",
       "      <td>하프넬슨</td>\n",
       "    </tr>\n",
       "    <tr>\n",
       "      <th>8</th>\n",
       "      <td>NaN</td>\n",
       "      <td>빌리버</td>\n",
       "    </tr>\n",
       "  </tbody>\n",
       "</table>\n",
       "</div>"
      ],
      "text/plain": [
       "     movieNm    movieNm\n",
       "0        NaN        빅쇼트\n",
       "1  온리 갓 포기브스        NaN\n",
       "2        NaN       킹메이커\n",
       "3        NaN       킹메이커\n",
       "4        NaN       킹메이커\n",
       "5        NaN  드라이브 마이 카\n",
       "6    오버 드라이브        NaN\n",
       "7        NaN       하프넬슨\n",
       "8        NaN        빌리버"
      ]
     },
     "execution_count": 265,
     "metadata": {},
     "output_type": "execute_result"
    }
   ],
   "source": [
    "recom_df_reset=recom_df.reset_index()\n",
    "del recom_df_reset['index']\n",
    "recom_df_reset"
   ]
  },
  {
   "cell_type": "code",
   "execution_count": 283,
   "metadata": {},
   "outputs": [
    {
     "data": {
      "text/html": [
       "<div>\n",
       "<style scoped>\n",
       "    .dataframe tbody tr th:only-of-type {\n",
       "        vertical-align: middle;\n",
       "    }\n",
       "\n",
       "    .dataframe tbody tr th {\n",
       "        vertical-align: top;\n",
       "    }\n",
       "\n",
       "    .dataframe thead th {\n",
       "        text-align: right;\n",
       "    }\n",
       "</style>\n",
       "<table border=\"1\" class=\"dataframe\">\n",
       "  <thead>\n",
       "    <tr style=\"text-align: right;\">\n",
       "      <th></th>\n",
       "      <th>movieNm</th>\n",
       "      <th>movieNm</th>\n",
       "    </tr>\n",
       "  </thead>\n",
       "  <tbody>\n",
       "    <tr>\n",
       "      <th>0</th>\n",
       "      <td>False</td>\n",
       "      <td>True</td>\n",
       "    </tr>\n",
       "    <tr>\n",
       "      <th>1</th>\n",
       "      <td>True</td>\n",
       "      <td>False</td>\n",
       "    </tr>\n",
       "    <tr>\n",
       "      <th>2</th>\n",
       "      <td>False</td>\n",
       "      <td>True</td>\n",
       "    </tr>\n",
       "    <tr>\n",
       "      <th>3</th>\n",
       "      <td>False</td>\n",
       "      <td>True</td>\n",
       "    </tr>\n",
       "    <tr>\n",
       "      <th>4</th>\n",
       "      <td>False</td>\n",
       "      <td>True</td>\n",
       "    </tr>\n",
       "    <tr>\n",
       "      <th>5</th>\n",
       "      <td>False</td>\n",
       "      <td>True</td>\n",
       "    </tr>\n",
       "    <tr>\n",
       "      <th>6</th>\n",
       "      <td>True</td>\n",
       "      <td>False</td>\n",
       "    </tr>\n",
       "    <tr>\n",
       "      <th>7</th>\n",
       "      <td>False</td>\n",
       "      <td>True</td>\n",
       "    </tr>\n",
       "    <tr>\n",
       "      <th>8</th>\n",
       "      <td>False</td>\n",
       "      <td>True</td>\n",
       "    </tr>\n",
       "  </tbody>\n",
       "</table>\n",
       "</div>"
      ],
      "text/plain": [
       "   movieNm  movieNm\n",
       "0    False     True\n",
       "1     True    False\n",
       "2    False     True\n",
       "3    False     True\n",
       "4    False     True\n",
       "5    False     True\n",
       "6     True    False\n",
       "7    False     True\n",
       "8    False     True"
      ]
     },
     "execution_count": 283,
     "metadata": {},
     "output_type": "execute_result"
    }
   ],
   "source": [
    "recommendation=[]\n",
    "null_recom = recom_df_reset.notnull()\n",
    "null_recom\n",
    "#if recom_df_reset['movieNm'] == recom_df_reset.notnull():\n",
    "#    print(recom_df_reset)\n",
    "#recommendation = recom_df_reset[recom_df_reset.isnull()==False]['movieNm']\n",
    "#    recom_df_reset = recom_df_reset\n",
    "#if recom_df.notnull() == True:\n",
    "#recommendation\n",
    "#recommendation"
   ]
  },
  {
   "cell_type": "code",
   "execution_count": 247,
   "metadata": {},
   "outputs": [
    {
     "data": {
      "text/plain": [
       "[[nan, '빅쇼트'],\n",
       " ['온리 갓 포기브스', nan],\n",
       " [nan, '킹메이커'],\n",
       " [nan, '킹메이커'],\n",
       " [nan, '킹메이커'],\n",
       " [nan, '드라이브 마이 카'],\n",
       " ['오버 드라이브', nan],\n",
       " [nan, '하프넬슨'],\n",
       " [nan, '빌리버']]"
      ]
     },
     "execution_count": 247,
     "metadata": {},
     "output_type": "execute_result"
    }
   ],
   "source": [
    "recom_list=[]\n",
    "recom_list=recom_df.values.tolist()\n",
    "recom_list"
   ]
  },
  {
   "cell_type": "code",
   "execution_count": 248,
   "metadata": {},
   "outputs": [
    {
     "name": "stdout",
     "output_type": "stream",
     "text": [
      "[[nan, '빅쇼트'], ['온리 갓 포기브스', nan], [nan, '킹메이커'], [nan, '킹메이커'], [nan, '킹메이커'], [nan, '드라이브 마이 카'], ['오버 드라이브', nan], [nan, '하프넬슨'], [nan, '빌리버']]\n"
     ]
    }
   ],
   "source": [
    "print(recom_list[:])"
   ]
  },
  {
   "cell_type": "code",
   "execution_count": null,
   "metadata": {},
   "outputs": [],
   "source": [
    "newList = list(filter(isBiggerThanFive, originalList))"
   ]
  }
 ],
 "metadata": {
  "kernelspec": {
   "display_name": "Python 3",
   "language": "python",
   "name": "python3"
  },
  "language_info": {
   "codemirror_mode": {
    "name": "ipython",
    "version": 3
   },
   "file_extension": ".py",
   "mimetype": "text/x-python",
   "name": "python",
   "nbconvert_exporter": "python",
   "pygments_lexer": "ipython3",
   "version": "3.8.5"
  }
 },
 "nbformat": 4,
 "nbformat_minor": 4
}
