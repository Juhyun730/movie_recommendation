{
 "cells": [
  {
   "cell_type": "markdown",
   "metadata": {},
   "source": [
    "## 영화 5개 받기"
   ]
  },
  {
   "cell_type": "code",
   "execution_count": 1,
   "metadata": {},
   "outputs": [
    {
     "name": "stdout",
     "output_type": "stream",
     "text": [
      "좋아하는 영화 5개를 입력해주세요(구분은 ,로): \n",
      "모가디슈, 블랙위도우, 라라랜드, 천문, 크루엘라\n",
      "['모가디슈', ' 블랙위도우', ' 라라랜드', ' 천문', ' 크루엘라']\n"
     ]
    }
   ],
   "source": [
    "print(\"좋아하는 영화 5개를 입력해주세요(구분은 ,로): \")\n",
    "movie_list = input().split(\",\")\n",
    "print(movie_list)"
   ]
  },
  {
   "cell_type": "markdown",
   "metadata": {},
   "source": [
    "## 영화 정보"
   ]
  },
  {
   "cell_type": "code",
   "execution_count": 2,
   "metadata": {},
   "outputs": [],
   "source": [
    "import requests\n",
    "import json"
   ]
  },
  {
   "cell_type": "code",
   "execution_count": 13,
   "metadata": {},
   "outputs": [
    {
     "name": "stdout",
     "output_type": "stream",
     "text": [
      "모가디슈의 개봉연도를 입력하세요: 2021\n",
      " 블랙위도우의 개봉연도를 입력하세요: 2021\n",
      " 천문의 개봉연도를 입력하세요: 2019\n",
      "[['20204117', '모가디슈', '액션,드라마', '2021'], ['20191951', '블랙 위도우', '액션,어드벤처,SF', '2021'], ['20167904', '라라랜드', '드라마,뮤지컬,멜로/로맨스', '2016'], ['20184571', '천문: 하늘에 묻는다', '사극', '2019'], ['20216362', '크루엘라', '드라마,범죄,코미디', '2021']]\n",
      "['모가디슈', '블랙 위도우', '라라랜드', '천문: 하늘에 묻는다', '크루엘라']\n"
     ]
    }
   ],
   "source": [
    "movie_cd_list = []\n",
    "director_list = []\n",
    "selected_movie_list = []\n",
    "\n",
    "for movie in movie_list:\n",
    "  movie_cd_url = 'https://www.kobis.or.kr/kobisopenapi/webservice/rest/movie/searchMovieList.json?key=d99e474ec53733a372d8413bd2753506&movieNm='+movie\n",
    "  res = requests.get(movie_cd_url)\n",
    "  text = res.text\n",
    "  d = json.loads(text)\n",
    "  if d['movieListResult']['totCnt'] > 1:    # 동명의 영화가 있을 경우\n",
    "    item_year = input(movie+\"의 개봉연도를 입력하세요: \")   # 개봉연도로 구분\n",
    "    for item in d['movieListResult']['movieList']:\n",
    "      if item_year == item['openDt'][:4]:\n",
    "          # director_list = director['peopleNm']\n",
    "        movie_cd_list.append([item['movieCd'],\n",
    "                              item['movieNm'],\n",
    "                              item['genreAlt'],\n",
    "                              item['openDt'][:4]])\n",
    "        selected_movie_list.append(item['movieNm'])\n",
    "  if d['movieListResult']['totCnt'] == 1:\n",
    "    for item in d['movieListResult']['movieList']:\n",
    "      movie_cd_list.append([item['movieCd'],\n",
    "                            item['movieNm'],\n",
    "                            item['genreAlt'],\n",
    "                            item['openDt'][:4]])\n",
    "      selected_movie_list.append(item['movieNm'])\n",
    "  \n",
    "print(movie_cd_list)\n",
    "print(selected_movie_list)"
   ]
  },
  {
   "cell_type": "code",
   "execution_count": 15,
   "metadata": {},
   "outputs": [
    {
     "data": {
      "text/html": [
       "<div>\n",
       "<style scoped>\n",
       "    .dataframe tbody tr th:only-of-type {\n",
       "        vertical-align: middle;\n",
       "    }\n",
       "\n",
       "    .dataframe tbody tr th {\n",
       "        vertical-align: top;\n",
       "    }\n",
       "\n",
       "    .dataframe thead th {\n",
       "        text-align: right;\n",
       "    }\n",
       "</style>\n",
       "<table border=\"1\" class=\"dataframe\">\n",
       "  <thead>\n",
       "    <tr style=\"text-align: right;\">\n",
       "      <th></th>\n",
       "      <th>movieCd</th>\n",
       "      <th>movieNm</th>\n",
       "      <th>genreAlt</th>\n",
       "      <th>openYr</th>\n",
       "    </tr>\n",
       "  </thead>\n",
       "  <tbody>\n",
       "    <tr>\n",
       "      <th>0</th>\n",
       "      <td>20204117</td>\n",
       "      <td>모가디슈</td>\n",
       "      <td>액션,드라마</td>\n",
       "      <td>2021</td>\n",
       "    </tr>\n",
       "    <tr>\n",
       "      <th>1</th>\n",
       "      <td>20191951</td>\n",
       "      <td>블랙 위도우</td>\n",
       "      <td>액션,어드벤처,SF</td>\n",
       "      <td>2021</td>\n",
       "    </tr>\n",
       "    <tr>\n",
       "      <th>2</th>\n",
       "      <td>20167904</td>\n",
       "      <td>라라랜드</td>\n",
       "      <td>드라마,뮤지컬,멜로/로맨스</td>\n",
       "      <td>2016</td>\n",
       "    </tr>\n",
       "    <tr>\n",
       "      <th>3</th>\n",
       "      <td>20184571</td>\n",
       "      <td>천문: 하늘에 묻는다</td>\n",
       "      <td>사극</td>\n",
       "      <td>2019</td>\n",
       "    </tr>\n",
       "    <tr>\n",
       "      <th>4</th>\n",
       "      <td>20216362</td>\n",
       "      <td>크루엘라</td>\n",
       "      <td>드라마,범죄,코미디</td>\n",
       "      <td>2021</td>\n",
       "    </tr>\n",
       "  </tbody>\n",
       "</table>\n",
       "</div>"
      ],
      "text/plain": [
       "    movieCd      movieNm        genreAlt openYr\n",
       "0  20204117         모가디슈          액션,드라마   2021\n",
       "1  20191951       블랙 위도우      액션,어드벤처,SF   2021\n",
       "2  20167904         라라랜드  드라마,뮤지컬,멜로/로맨스   2016\n",
       "3  20184571  천문: 하늘에 묻는다              사극   2019\n",
       "4  20216362         크루엘라      드라마,범죄,코미디   2021"
      ]
     },
     "execution_count": 15,
     "metadata": {},
     "output_type": "execute_result"
    }
   ],
   "source": [
    "import pandas as pd\n",
    "\n",
    "movie_cdlist_df = pd.DataFrame(movie_cd_list)\n",
    "movie_cdlist_df.columns = ['movieCd', 'movieNm','genreAlt', 'openYr']\n",
    "movie_cdlist_df"
   ]
  },
  {
   "cell_type": "markdown",
   "metadata": {},
   "source": [
    "## 영화코드로 정보 추출"
   ]
  },
  {
   "cell_type": "code",
   "execution_count": 16,
   "metadata": {},
   "outputs": [
    {
     "name": "stdout",
     "output_type": "stream",
     "text": [
      "['류승완', '케이트 쇼트랜드', '데이미언 셔젤', '허진호', '크레이그 질레스피']\n",
      "['김윤석', '조인성', '허준호', '구교환', '김소진', '정만식', '김재화', '박경혜', '박명신', '한철우', '스칼렛 요한슨', '플로렌스 퓨', '레이첼 와이즈', '데이빗 하버', '엠마 스톤', '라이언 고슬링', '핀 위트록', 'J.K. 시몬스', '로즈마리 드윗', '최민식', '한석규', '신구', '김홍파', '허준호', '김태우', '김원해', '임원희', '오광록', '박성훈', '엠마 스톤', '엠마 톰슨', '마크 스트롱']\n",
      "['김윤석', '조인성', '허준호', '스칼렛 요한슨', '플로렌스 퓨', '레이첼 와이즈', '엠마 스톤', '라이언 고슬링', '핀 위트록', '최민식', '한석규', '신구', '엠마 스톤', '엠마 톰슨', '마크 스트롱']\n",
      "['액션', '드라마', '액션', '어드벤처', 'SF', '드라마', '뮤지컬', '멜로/로맨스', '사극', '드라마', '범죄', '코미디']\n"
     ]
    }
   ],
   "source": [
    "movie_detail_list = []\n",
    "movie_director_list = []\n",
    "movie_cast_list = []    # 한 영화당 최대 10명의 배우를 추출하여 저장한 리스트\n",
    "direct_list = []\n",
    "movie_mainactor_list = []    # 한 영화당 최대 2명(주인공)의 배우를 추출하여 저장한 리스트\n",
    "movie_genre_list = [] \n",
    "\n",
    "actor_list = []              # 5개 영화의 movie_cast_list을 모은 것\n",
    "mainactor_list = []          # 5개 영화의 movie_mainactor_list을 모은 것\n",
    "genre_list = []              # 5개 영화의 장르를 모은 것\n",
    "\n",
    "movie_actor_list = [[] for i in range(0,5)]\n",
    "movie_direc_list = [[] for i in range(0,5)]\n",
    "j=0\n",
    "\n",
    "for movieCd in movie_cdlist_df['movieCd']:\n",
    "    movie_director_list.clear()\n",
    "    movie_cast_list.clear()\n",
    "    movie_mainactor_list.clear()\n",
    "    movie_genre_list.clear()\n",
    "    actor_list_url = 'https://www.kobis.or.kr/kobisopenapi/webservice/rest/movie/searchMovieInfo.json?key=d99e474ec53733a372d8413bd2753506&movieCd='+movieCd\n",
    "    res = requests.get(actor_list_url)\n",
    "    text = res.text\n",
    "    d = json.loads(text)\n",
    "\n",
    "    for direc in d['movieInfoResult']['movieInfo']['directors']:\n",
    "        movie_director_list.append(direc['peopleNm'])\n",
    "        direct_list+=movie_director_list\n",
    "\n",
    "    for cast in d['movieInfoResult']['movieInfo']['actors']:\n",
    "        if len(movie_mainactor_list) < 3:\n",
    "            movie_mainactor_list.append(cast['peopleNm'])\n",
    "        if len(movie_cast_list) <= 9:\n",
    "            movie_cast_list.append(cast['peopleNm'])\n",
    "            \n",
    "    for genr in d['movieInfoResult']['movieInfo']['genres']:\n",
    "        movie_genre_list.append(genr['genreNm'])\n",
    "  \n",
    "    #print(movie_cast_list)\n",
    "    actor_list += movie_cast_list\n",
    "    mainactor_list += movie_mainactor_list\n",
    "    genre_list += movie_genre_list\n",
    "\n",
    "    \"\"\"for i in range(0,5):\n",
    "        movie_direc_list[i] = direct_list[i:i+1]\n",
    "        movie_actor_list[i] = actor_list[10*i:10*(i+1)]\"\"\"\n",
    "\n",
    "    \"\"\"movie_detail_list.append([d['movieInfoResult']['movieInfo']['movieCd'],\n",
    "                              d['movieInfoResult']['movieInfo']['movieNm'],\n",
    "                              d['movieInfoResult']['movieInfo']['openDt'][:4],\n",
    "                              movie_direc_list[j], movie_actor_list[j]])\"\"\"\n",
    "    j+=1\n",
    "\n",
    "print(direct_list)\n",
    "print(actor_list)\n",
    "print(mainactor_list)\n",
    "print(genre_list)"
   ]
  },
  {
   "cell_type": "markdown",
   "metadata": {},
   "source": [
    "## 배우 등장 횟수"
   ]
  },
  {
   "cell_type": "code",
   "execution_count": 17,
   "metadata": {},
   "outputs": [
    {
     "data": {
      "text/plain": [
       "{'김윤석': 1,\n",
       " '조인성': 1,\n",
       " '허준호': 2,\n",
       " '구교환': 1,\n",
       " '김소진': 1,\n",
       " '정만식': 1,\n",
       " '김재화': 1,\n",
       " '박경혜': 1,\n",
       " '박명신': 1,\n",
       " '한철우': 1,\n",
       " '스칼렛 요한슨': 1,\n",
       " '플로렌스 퓨': 1,\n",
       " '레이첼 와이즈': 1,\n",
       " '데이빗 하버': 1,\n",
       " '엠마 스톤': 2,\n",
       " '라이언 고슬링': 1,\n",
       " '핀 위트록': 1,\n",
       " 'J.K. 시몬스': 1,\n",
       " '로즈마리 드윗': 1,\n",
       " '최민식': 1,\n",
       " '한석규': 1,\n",
       " '신구': 1,\n",
       " '김홍파': 1,\n",
       " '김태우': 1,\n",
       " '김원해': 1,\n",
       " '임원희': 1,\n",
       " '오광록': 1,\n",
       " '박성훈': 1,\n",
       " '엠마 톰슨': 1,\n",
       " '마크 스트롱': 1}"
      ]
     },
     "execution_count": 17,
     "metadata": {},
     "output_type": "execute_result"
    }
   ],
   "source": [
    "actor_dict = dict()\n",
    "for i in actor_list:\n",
    "    if i not in actor_dict:\n",
    "        actor_dict[i]=1\n",
    "    else:\n",
    "        actor_dict[i]=actor_dict[i]+1\n",
    "\n",
    "actor_dict"
   ]
  },
  {
   "cell_type": "markdown",
   "metadata": {},
   "source": [
    "## 주연배우(맨 앞 3사람)"
   ]
  },
  {
   "cell_type": "code",
   "execution_count": 18,
   "metadata": {},
   "outputs": [
    {
     "data": {
      "text/plain": [
       "{'김윤석': 1,\n",
       " '조인성': 1,\n",
       " '허준호': 1,\n",
       " '스칼렛 요한슨': 1,\n",
       " '플로렌스 퓨': 1,\n",
       " '레이첼 와이즈': 1,\n",
       " '엠마 스톤': 2,\n",
       " '라이언 고슬링': 1,\n",
       " '핀 위트록': 1,\n",
       " '최민식': 1,\n",
       " '한석규': 1,\n",
       " '신구': 1,\n",
       " '엠마 톰슨': 1,\n",
       " '마크 스트롱': 1}"
      ]
     },
     "execution_count": 18,
     "metadata": {},
     "output_type": "execute_result"
    }
   ],
   "source": [
    "mainactor_dict = dict()\n",
    "for i in mainactor_list:\n",
    "    if i not in mainactor_dict:\n",
    "        mainactor_dict[i]=1\n",
    "    else:\n",
    "        mainactor_dict[i]=mainactor_dict[i]+1\n",
    "\n",
    "mainactor_dict"
   ]
  },
  {
   "cell_type": "markdown",
   "metadata": {},
   "source": [
    "## 추천배우 5명"
   ]
  },
  {
   "cell_type": "markdown",
   "metadata": {},
   "source": [
    "- 2번 등장 배우 우선\n",
    "- 빈자리는 랜덤"
   ]
  },
  {
   "cell_type": "code",
   "execution_count": 19,
   "metadata": {},
   "outputs": [
    {
     "data": {
      "text/plain": [
       "['허준호', '엠마 스톤', '김윤석', '최민식']"
      ]
     },
     "execution_count": 19,
     "metadata": {},
     "output_type": "execute_result"
    }
   ],
   "source": [
    "import random\n",
    "\n",
    "prefer_actor_list = []\n",
    "for key, value in actor_dict.items():\n",
    "    if value > 1:\n",
    "        prefer_actor_list.append(key)\n",
    "if len(prefer_actor_list)<5:\n",
    "    for i in range(5-len(prefer_actor_list)):\n",
    "        actor = random.choice(mainactor_list)\n",
    "        if actor not in prefer_actor_list:\n",
    "            prefer_actor_list.append(actor)\n",
    "\n",
    "prefer_actor_list"
   ]
  },
  {
   "cell_type": "markdown",
   "metadata": {},
   "source": [
    "## 배우 추천 코드"
   ]
  },
  {
   "cell_type": "code",
   "execution_count": 34,
   "metadata": {},
   "outputs": [],
   "source": [
    "actor_code = []\n",
    "filmo_list = []\n",
    "final_filmo_list = []\n",
    "\n",
    "for prefer_actor in prefer_actor_list:\n",
    "    actor_list_url = 'http://kobis.or.kr/kobisopenapi/webservice/rest/people/searchPeopleList.json?key=d99e474ec53733a372d8413bd2753506'+'&peopleNm='+prefer_actor\n",
    "    res = requests.get(actor_list_url)\n",
    "    text = res.text\n",
    "    d = json.loads(text)\n",
    "\n",
    "    for actor in d['peopleListResult']['peopleList']:\n",
    "        final_filmo_list.clear()\n",
    "        if actor['repRoleNm'] == '배우' and actor['peopleNmEn']!= \"\":\n",
    "            filmo_list = actor['filmoNames'].split(\"|\")\n",
    "            for filmo in filmo_list:\n",
    "                if filmo not in selected_movie_list:\n",
    "                    final_filmo_list.append(filmo)\n",
    "            actor_code.append([actor['peopleCd'], actor['peopleNm'],actor['peopleNmEn'], actor['repRoleNm'], final_filmo_list[:5]])"
   ]
  },
  {
   "cell_type": "code",
   "execution_count": 35,
   "metadata": {},
   "outputs": [
    {
     "name": "stdout",
     "output_type": "stream",
     "text": [
      "['모가디슈', '블랙 위도우', '라라랜드', '천문: 하늘에 묻는다', '크루엘라']\n",
      "['이상한 나라의 수학자', '천문: 하늘에 묻는다', '봉오동 전투', '헤븐: 행복의 나라로', '침묵', '특별시민', '대호', '루시', '명량', '신세계', '범죄와의 전쟁: 나쁜놈들 전성시대', '마당을 나온 암탉', '악마를 보았다', '악마를 보았다 감독판', '히말라야, 바람이 머무는 곳', '친절한 금자씨', '주먹이 운다(Crying Fist)', '꽃피는 봄이 오면', '올드보이', '오원 장승업 취화선', '취화선', '파이란', '해피엔드', '쉬리', '조용한 가족', '넘버 3', '사라는 유죄', '우리사랑 이대로', '우리들의 일그러진 영웅', '추락하는 것은 날개가 있다', '구로 아리랑', '겨울의 길목']\n",
      "[]\n"
     ]
    }
   ],
   "source": [
    "print(selected_movie_list)\n",
    "print(filmo_list)\n",
    "print(final_filmo_list)"
   ]
  },
  {
   "cell_type": "code",
   "execution_count": 36,
   "metadata": {},
   "outputs": [
    {
     "data": {
      "text/plain": [
       "[]"
      ]
     },
     "execution_count": 36,
     "metadata": {},
     "output_type": "execute_result"
    }
   ],
   "source": [
    "final_filmo_list"
   ]
  },
  {
   "cell_type": "code",
   "execution_count": 22,
   "metadata": {},
   "outputs": [
    {
     "data": {
      "text/html": [
       "<div>\n",
       "<style scoped>\n",
       "    .dataframe tbody tr th:only-of-type {\n",
       "        vertical-align: middle;\n",
       "    }\n",
       "\n",
       "    .dataframe tbody tr th {\n",
       "        vertical-align: top;\n",
       "    }\n",
       "\n",
       "    .dataframe thead th {\n",
       "        text-align: right;\n",
       "    }\n",
       "</style>\n",
       "<table border=\"1\" class=\"dataframe\">\n",
       "  <thead>\n",
       "    <tr style=\"text-align: right;\">\n",
       "      <th></th>\n",
       "      <th>peopleCd</th>\n",
       "      <th>peopleNm</th>\n",
       "      <th>peopleNmEn</th>\n",
       "      <th>repRoleNm</th>\n",
       "      <th>filmoNames</th>\n",
       "    </tr>\n",
       "  </thead>\n",
       "  <tbody>\n",
       "    <tr>\n",
       "      <th>0</th>\n",
       "      <td>10088453</td>\n",
       "      <td>허준호</td>\n",
       "      <td>HUH Joon-ho</td>\n",
       "      <td>배우</td>\n",
       "      <td>[노량: 죽음의 바다, 결백, 퍼펙트맨, 국가부도의 날, 인랑]</td>\n",
       "    </tr>\n",
       "    <tr>\n",
       "      <th>1</th>\n",
       "      <td>10049633</td>\n",
       "      <td>엠마 스톤</td>\n",
       "      <td>Emma Stone</td>\n",
       "      <td>배우</td>\n",
       "      <td>[크루즈 패밀리: 뉴 에이지, 좀비랜드: 더블 탭, 더 페이버릿: 여왕의 여자, 빌...</td>\n",
       "    </tr>\n",
       "    <tr>\n",
       "      <th>2</th>\n",
       "      <td>10005276</td>\n",
       "      <td>김윤석</td>\n",
       "      <td>KIM Yun-seok</td>\n",
       "      <td>배우</td>\n",
       "      <td>[노량: 죽음의 바다, 바이러스(가제), 미성년, 암수살인, 1987]</td>\n",
       "    </tr>\n",
       "    <tr>\n",
       "      <th>3</th>\n",
       "      <td>10072251</td>\n",
       "      <td>최민식</td>\n",
       "      <td>CHOI Min-shik</td>\n",
       "      <td>배우</td>\n",
       "      <td>[이상한 나라의 수학자, 봉오동 전투, 헤븐: 행복의 나라로, 침묵, 특별시민]</td>\n",
       "    </tr>\n",
       "  </tbody>\n",
       "</table>\n",
       "</div>"
      ],
      "text/plain": [
       "   peopleCd peopleNm     peopleNmEn repRoleNm  \\\n",
       "0  10088453      허준호    HUH Joon-ho        배우   \n",
       "1  10049633    엠마 스톤     Emma Stone        배우   \n",
       "2  10005276      김윤석   KIM Yun-seok        배우   \n",
       "3  10072251      최민식  CHOI Min-shik        배우   \n",
       "\n",
       "                                          filmoNames  \n",
       "0                [노량: 죽음의 바다, 결백, 퍼펙트맨, 국가부도의 날, 인랑]  \n",
       "1  [크루즈 패밀리: 뉴 에이지, 좀비랜드: 더블 탭, 더 페이버릿: 여왕의 여자, 빌...  \n",
       "2            [노량: 죽음의 바다, 바이러스(가제), 미성년, 암수살인, 1987]  \n",
       "3       [이상한 나라의 수학자, 봉오동 전투, 헤븐: 행복의 나라로, 침묵, 특별시민]  "
      ]
     },
     "execution_count": 22,
     "metadata": {},
     "output_type": "execute_result"
    }
   ],
   "source": [
    "actor_code_df = pd.DataFrame(actor_code)\n",
    "actor_code_df.columns = ['peopleCd','peopleNm','peopleNmEn','repRoleNm', 'filmoNames']\n",
    "actor_code_df"
   ]
  },
  {
   "cell_type": "markdown",
   "metadata": {},
   "source": [
    "## 장르 등장 횟수 "
   ]
  },
  {
   "cell_type": "code",
   "execution_count": 23,
   "metadata": {},
   "outputs": [
    {
     "data": {
      "text/plain": [
       "{'액션': 2,\n",
       " '드라마': 3,\n",
       " '어드벤처': 1,\n",
       " 'SF': 1,\n",
       " '뮤지컬': 1,\n",
       " '멜로/로맨스': 1,\n",
       " '사극': 1,\n",
       " '범죄': 1,\n",
       " '코미디': 1}"
      ]
     },
     "execution_count": 23,
     "metadata": {},
     "output_type": "execute_result"
    }
   ],
   "source": [
    "genre_dict = dict()\n",
    "for i in genre_list:\n",
    "    if i not in genre_dict:\n",
    "        genre_dict[i]=1\n",
    "    else:\n",
    "        genre_dict[i]=genre_dict[i]+1\n",
    "\n",
    "genre_dict"
   ]
  },
  {
   "cell_type": "code",
   "execution_count": 24,
   "metadata": {},
   "outputs": [
    {
     "data": {
      "text/html": [
       "<div>\n",
       "<style scoped>\n",
       "    .dataframe tbody tr th:only-of-type {\n",
       "        vertical-align: middle;\n",
       "    }\n",
       "\n",
       "    .dataframe tbody tr th {\n",
       "        vertical-align: top;\n",
       "    }\n",
       "\n",
       "    .dataframe thead th {\n",
       "        text-align: right;\n",
       "    }\n",
       "</style>\n",
       "<table border=\"1\" class=\"dataframe\">\n",
       "  <thead>\n",
       "    <tr style=\"text-align: right;\">\n",
       "      <th></th>\n",
       "      <th>filmoNames</th>\n",
       "    </tr>\n",
       "  </thead>\n",
       "  <tbody>\n",
       "    <tr>\n",
       "      <th>0</th>\n",
       "      <td>[노량: 죽음의 바다, 결백, 퍼펙트맨, 국가부도의 날, 인랑]</td>\n",
       "    </tr>\n",
       "    <tr>\n",
       "      <th>1</th>\n",
       "      <td>[크루즈 패밀리: 뉴 에이지, 좀비랜드: 더블 탭, 더 페이버릿: 여왕의 여자, 빌...</td>\n",
       "    </tr>\n",
       "    <tr>\n",
       "      <th>2</th>\n",
       "      <td>[노량: 죽음의 바다, 바이러스(가제), 미성년, 암수살인, 1987]</td>\n",
       "    </tr>\n",
       "    <tr>\n",
       "      <th>3</th>\n",
       "      <td>[이상한 나라의 수학자, 봉오동 전투, 헤븐: 행복의 나라로, 침묵, 특별시민]</td>\n",
       "    </tr>\n",
       "  </tbody>\n",
       "</table>\n",
       "</div>"
      ],
      "text/plain": [
       "                                          filmoNames\n",
       "0                [노량: 죽음의 바다, 결백, 퍼펙트맨, 국가부도의 날, 인랑]\n",
       "1  [크루즈 패밀리: 뉴 에이지, 좀비랜드: 더블 탭, 더 페이버릿: 여왕의 여자, 빌...\n",
       "2            [노량: 죽음의 바다, 바이러스(가제), 미성년, 암수살인, 1987]\n",
       "3       [이상한 나라의 수학자, 봉오동 전투, 헤븐: 행복의 나라로, 침묵, 특별시민]"
      ]
     },
     "execution_count": 24,
     "metadata": {},
     "output_type": "execute_result"
    }
   ],
   "source": [
    "movie_code_df = pd.DataFrame(actor_code_df['filmoNames'])\n",
    "movie_code_df.columns = ['filmoNames']\n",
    "movie_code_df"
   ]
  },
  {
   "cell_type": "code",
   "execution_count": 32,
   "metadata": {},
   "outputs": [
    {
     "ename": "AttributeError",
     "evalue": "'Series' object has no attribute 'split'",
     "output_type": "error",
     "traceback": [
      "\u001b[1;31m---------------------------------------------------------------------------\u001b[0m",
      "\u001b[1;31mAttributeError\u001b[0m                            Traceback (most recent call last)",
      "\u001b[1;32m<ipython-input-32-504c3386cf34>\u001b[0m in \u001b[0;36m<module>\u001b[1;34m\u001b[0m\n\u001b[0;32m      2\u001b[0m \u001b[1;33m\u001b[0m\u001b[0m\n\u001b[0;32m      3\u001b[0m \u001b[1;32mfor\u001b[0m \u001b[0mi\u001b[0m \u001b[1;32min\u001b[0m \u001b[0mrange\u001b[0m\u001b[1;33m(\u001b[0m\u001b[1;36m10\u001b[0m\u001b[1;33m)\u001b[0m\u001b[1;33m:\u001b[0m\u001b[1;33m\u001b[0m\u001b[1;33m\u001b[0m\u001b[0m\n\u001b[1;32m----> 4\u001b[1;33m     \u001b[0mpre_recom\u001b[0m \u001b[1;33m=\u001b[0m \u001b[0mmovie_code_df\u001b[0m\u001b[1;33m[\u001b[0m\u001b[1;34m'filmoNames'\u001b[0m\u001b[1;33m]\u001b[0m\u001b[1;33m.\u001b[0m\u001b[0msplit\u001b[0m\u001b[1;33m(\u001b[0m\u001b[1;34m\",\"\u001b[0m\u001b[1;33m)\u001b[0m\u001b[1;33m\u001b[0m\u001b[1;33m\u001b[0m\u001b[0m\n\u001b[0m\u001b[0;32m      5\u001b[0m \u001b[0mpre_recom\u001b[0m\u001b[1;33m\u001b[0m\u001b[1;33m\u001b[0m\u001b[0m\n",
      "\u001b[1;32m~\\anaconda3\\lib\\site-packages\\pandas\\core\\generic.py\u001b[0m in \u001b[0;36m__getattr__\u001b[1;34m(self, name)\u001b[0m\n\u001b[0;32m   5476\u001b[0m         ):\n\u001b[0;32m   5477\u001b[0m             \u001b[1;32mreturn\u001b[0m \u001b[0mself\u001b[0m\u001b[1;33m[\u001b[0m\u001b[0mname\u001b[0m\u001b[1;33m]\u001b[0m\u001b[1;33m\u001b[0m\u001b[1;33m\u001b[0m\u001b[0m\n\u001b[1;32m-> 5478\u001b[1;33m         \u001b[1;32mreturn\u001b[0m \u001b[0mobject\u001b[0m\u001b[1;33m.\u001b[0m\u001b[0m__getattribute__\u001b[0m\u001b[1;33m(\u001b[0m\u001b[0mself\u001b[0m\u001b[1;33m,\u001b[0m \u001b[0mname\u001b[0m\u001b[1;33m)\u001b[0m\u001b[1;33m\u001b[0m\u001b[1;33m\u001b[0m\u001b[0m\n\u001b[0m\u001b[0;32m   5479\u001b[0m \u001b[1;33m\u001b[0m\u001b[0m\n\u001b[0;32m   5480\u001b[0m     \u001b[1;32mdef\u001b[0m \u001b[0m__setattr__\u001b[0m\u001b[1;33m(\u001b[0m\u001b[0mself\u001b[0m\u001b[1;33m,\u001b[0m \u001b[0mname\u001b[0m\u001b[1;33m:\u001b[0m \u001b[0mstr\u001b[0m\u001b[1;33m,\u001b[0m \u001b[0mvalue\u001b[0m\u001b[1;33m)\u001b[0m \u001b[1;33m->\u001b[0m \u001b[1;32mNone\u001b[0m\u001b[1;33m:\u001b[0m\u001b[1;33m\u001b[0m\u001b[1;33m\u001b[0m\u001b[0m\n",
      "\u001b[1;31mAttributeError\u001b[0m: 'Series' object has no attribute 'split'"
     ]
    }
   ],
   "source": [
    "pre_recom=[]\n",
    "\n",
    "for i in range(10):\n",
    "    pre_recom = movie_code_df['filmoNames'].split(\",\")\n",
    "pre_recom"
   ]
  },
  {
   "cell_type": "code",
   "execution_count": 29,
   "metadata": {},
   "outputs": [
    {
     "ename": "TypeError",
     "evalue": "unhashable type: 'list'",
     "output_type": "error",
     "traceback": [
      "\u001b[1;31m---------------------------------------------------------------------------\u001b[0m",
      "\u001b[1;31mTypeError\u001b[0m                                 Traceback (most recent call last)",
      "\u001b[1;32m<ipython-input-29-da311b5b991e>\u001b[0m in \u001b[0;36m<module>\u001b[1;34m\u001b[0m\n\u001b[1;32m----> 1\u001b[1;33m \u001b[0mmovie_code_df\u001b[0m\u001b[1;33m[\u001b[0m\u001b[1;34m'filmoNames'\u001b[0m\u001b[1;33m]\u001b[0m\u001b[1;33m.\u001b[0m\u001b[0munique\u001b[0m\u001b[1;33m(\u001b[0m\u001b[1;33m)\u001b[0m\u001b[1;33m\u001b[0m\u001b[1;33m\u001b[0m\u001b[0m\n\u001b[0m",
      "\u001b[1;32m~\\anaconda3\\lib\\site-packages\\pandas\\core\\series.py\u001b[0m in \u001b[0;36munique\u001b[1;34m(self)\u001b[0m\n\u001b[0;32m   2036\u001b[0m         \u001b[0mCategories\u001b[0m \u001b[1;33m(\u001b[0m\u001b[1;36m3\u001b[0m\u001b[1;33m,\u001b[0m \u001b[0mobject\u001b[0m\u001b[1;33m)\u001b[0m\u001b[1;33m:\u001b[0m \u001b[1;33m[\u001b[0m\u001b[1;34m'a'\u001b[0m \u001b[1;33m<\u001b[0m \u001b[1;34m'b'\u001b[0m \u001b[1;33m<\u001b[0m \u001b[1;34m'c'\u001b[0m\u001b[1;33m]\u001b[0m\u001b[1;33m\u001b[0m\u001b[1;33m\u001b[0m\u001b[0m\n\u001b[0;32m   2037\u001b[0m         \"\"\"\n\u001b[1;32m-> 2038\u001b[1;33m         \u001b[1;32mreturn\u001b[0m \u001b[0msuper\u001b[0m\u001b[1;33m(\u001b[0m\u001b[1;33m)\u001b[0m\u001b[1;33m.\u001b[0m\u001b[0munique\u001b[0m\u001b[1;33m(\u001b[0m\u001b[1;33m)\u001b[0m\u001b[1;33m\u001b[0m\u001b[1;33m\u001b[0m\u001b[0m\n\u001b[0m\u001b[0;32m   2039\u001b[0m \u001b[1;33m\u001b[0m\u001b[0m\n\u001b[0;32m   2040\u001b[0m     \u001b[1;33m@\u001b[0m\u001b[0moverload\u001b[0m\u001b[1;33m\u001b[0m\u001b[1;33m\u001b[0m\u001b[0m\n",
      "\u001b[1;32m~\\anaconda3\\lib\\site-packages\\pandas\\core\\base.py\u001b[0m in \u001b[0;36munique\u001b[1;34m(self)\u001b[0m\n\u001b[0;32m    977\u001b[0m                     \u001b[0mresult\u001b[0m \u001b[1;33m=\u001b[0m \u001b[0mnp\u001b[0m\u001b[1;33m.\u001b[0m\u001b[0masarray\u001b[0m\u001b[1;33m(\u001b[0m\u001b[0mresult\u001b[0m\u001b[1;33m)\u001b[0m\u001b[1;33m\u001b[0m\u001b[1;33m\u001b[0m\u001b[0m\n\u001b[0;32m    978\u001b[0m         \u001b[1;32melse\u001b[0m\u001b[1;33m:\u001b[0m\u001b[1;33m\u001b[0m\u001b[1;33m\u001b[0m\u001b[0m\n\u001b[1;32m--> 979\u001b[1;33m             \u001b[0mresult\u001b[0m \u001b[1;33m=\u001b[0m \u001b[0munique1d\u001b[0m\u001b[1;33m(\u001b[0m\u001b[0mvalues\u001b[0m\u001b[1;33m)\u001b[0m\u001b[1;33m\u001b[0m\u001b[1;33m\u001b[0m\u001b[0m\n\u001b[0m\u001b[0;32m    980\u001b[0m \u001b[1;33m\u001b[0m\u001b[0m\n\u001b[0;32m    981\u001b[0m         \u001b[1;32mreturn\u001b[0m \u001b[0mresult\u001b[0m\u001b[1;33m\u001b[0m\u001b[1;33m\u001b[0m\u001b[0m\n",
      "\u001b[1;32m~\\anaconda3\\lib\\site-packages\\pandas\\core\\algorithms.py\u001b[0m in \u001b[0;36munique\u001b[1;34m(values)\u001b[0m\n\u001b[0;32m    428\u001b[0m \u001b[1;33m\u001b[0m\u001b[0m\n\u001b[0;32m    429\u001b[0m     \u001b[0mtable\u001b[0m \u001b[1;33m=\u001b[0m \u001b[0mhtable\u001b[0m\u001b[1;33m(\u001b[0m\u001b[0mlen\u001b[0m\u001b[1;33m(\u001b[0m\u001b[0mvalues\u001b[0m\u001b[1;33m)\u001b[0m\u001b[1;33m)\u001b[0m\u001b[1;33m\u001b[0m\u001b[1;33m\u001b[0m\u001b[0m\n\u001b[1;32m--> 430\u001b[1;33m     \u001b[0muniques\u001b[0m \u001b[1;33m=\u001b[0m \u001b[0mtable\u001b[0m\u001b[1;33m.\u001b[0m\u001b[0munique\u001b[0m\u001b[1;33m(\u001b[0m\u001b[0mvalues\u001b[0m\u001b[1;33m)\u001b[0m\u001b[1;33m\u001b[0m\u001b[1;33m\u001b[0m\u001b[0m\n\u001b[0m\u001b[0;32m    431\u001b[0m     \u001b[0muniques\u001b[0m \u001b[1;33m=\u001b[0m \u001b[0m_reconstruct_data\u001b[0m\u001b[1;33m(\u001b[0m\u001b[0muniques\u001b[0m\u001b[1;33m,\u001b[0m \u001b[0moriginal\u001b[0m\u001b[1;33m.\u001b[0m\u001b[0mdtype\u001b[0m\u001b[1;33m,\u001b[0m \u001b[0moriginal\u001b[0m\u001b[1;33m)\u001b[0m\u001b[1;33m\u001b[0m\u001b[1;33m\u001b[0m\u001b[0m\n\u001b[0;32m    432\u001b[0m     \u001b[1;32mreturn\u001b[0m \u001b[0muniques\u001b[0m\u001b[1;33m\u001b[0m\u001b[1;33m\u001b[0m\u001b[0m\n",
      "\u001b[1;32mpandas\\_libs\\hashtable_class_helper.pxi\u001b[0m in \u001b[0;36mpandas._libs.hashtable.PyObjectHashTable.unique\u001b[1;34m()\u001b[0m\n",
      "\u001b[1;32mpandas\\_libs\\hashtable_class_helper.pxi\u001b[0m in \u001b[0;36mpandas._libs.hashtable.PyObjectHashTable._unique\u001b[1;34m()\u001b[0m\n",
      "\u001b[1;31mTypeError\u001b[0m: unhashable type: 'list'"
     ]
    }
   ],
   "source": [
    "movie_code_df['filmoNames'].unique()"
   ]
  },
  {
   "cell_type": "code",
   "execution_count": 44,
   "metadata": {},
   "outputs": [
    {
     "data": {
      "text/plain": [
       "0            [모가디슈, 노량: 죽음의 바다, 결백, 천문: 하늘에 묻는다, 퍼펙트맨]\n",
       "1                                              [좀비파이터]\n",
       "2    [크루엘라, 크루즈 패밀리: 뉴 에이지, 좀비랜드: 더블 탭, 더 페이버릿: 여왕의...\n",
       "3                                         [라라랜드, 언브로큰]\n",
       "4    [블랙 위도우, 더 페이버릿: 여왕의 여자, 나는 부정한다, 파도가 지나간 자리, ...\n",
       "5              [얼굴없는 보스: 못다한 이야기 감독판, 얼굴없는 보스, 봉오동 전투]\n",
       "6                [천문: 하늘에 묻는다, 첫잔처럼, 비밥바룰라, 해빙, 아빠는 딸]\n",
       "0            [모가디슈, 노량: 죽음의 바다, 결백, 천문: 하늘에 묻는다, 퍼펙트맨]\n",
       "1                                              [좀비파이터]\n",
       "2    [크루엘라, 크루즈 패밀리: 뉴 에이지, 좀비랜드: 더블 탭, 더 페이버릿: 여왕의...\n",
       "3                                         [라라랜드, 언브로큰]\n",
       "4    [블랙 위도우, 더 페이버릿: 여왕의 여자, 나는 부정한다, 파도가 지나간 자리, ...\n",
       "5              [얼굴없는 보스: 못다한 이야기 감독판, 얼굴없는 보스, 봉오동 전투]\n",
       "6                [천문: 하늘에 묻는다, 첫잔처럼, 비밥바룰라, 해빙, 아빠는 딸]\n",
       "Name: filmoNames, dtype: object"
      ]
     },
     "execution_count": 44,
     "metadata": {},
     "output_type": "execute_result"
    }
   ],
   "source": [
    "for i in range(5):\n",
    "    pre_recom_movie = actor_code_df['filmoNames'].append(actor_code_df['filmoNames'])"
   ]
  },
  {
   "cell_type": "code",
   "execution_count": null,
   "metadata": {},
   "outputs": [],
   "source": []
  }
 ],
 "metadata": {
  "kernelspec": {
   "display_name": "Python 3",
   "language": "python",
   "name": "python3"
  },
  "language_info": {
   "codemirror_mode": {
    "name": "ipython",
    "version": 3
   },
   "file_extension": ".py",
   "mimetype": "text/x-python",
   "name": "python",
   "nbconvert_exporter": "python",
   "pygments_lexer": "ipython3",
   "version": "3.8.5"
  }
 },
 "nbformat": 4,
 "nbformat_minor": 4
}
